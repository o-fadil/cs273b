{
 "cells": [
  {
   "cell_type": "code",
   "execution_count": 8,
   "metadata": {},
   "outputs": [],
   "source": [
    "import pandas as pd\n",
    "nuc_csv = pd.read_csv(\"UniRep1900_BareNucAct.csv\")\n",
    "nuc_info = pd.read_csv(\"nuc_info.csv\")"
   ]
  },
  {
   "cell_type": "code",
   "execution_count": 9,
   "metadata": {
    "collapsed": false,
    "jupyter": {
     "outputs_hidden": false
    },
    "pycharm": {
     "name": "#%%\n"
    }
   },
   "outputs": [
    {
     "data": {
      "text/html": [
       "<div>\n",
       "<style scoped>\n",
       "    .dataframe tbody tr th:only-of-type {\n",
       "        vertical-align: middle;\n",
       "    }\n",
       "\n",
       "    .dataframe tbody tr th {\n",
       "        vertical-align: top;\n",
       "    }\n",
       "\n",
       "    .dataframe thead th {\n",
       "        text-align: right;\n",
       "    }\n",
       "</style>\n",
       "<table border=\"1\" class=\"dataframe\">\n",
       "  <thead>\n",
       "    <tr style=\"text-align: right;\">\n",
       "      <th></th>\n",
       "      <th>Gene entry name</th>\n",
       "      <th>Domain ID</th>\n",
       "      <th>Extended Domain sequence</th>\n",
       "      <th>label</th>\n",
       "      <th>Hit</th>\n",
       "      <th>Well-expressed</th>\n",
       "      <th>Category</th>\n",
       "      <th>Domain start</th>\n",
       "      <th>Domain length</th>\n",
       "    </tr>\n",
       "  </thead>\n",
       "  <tbody>\n",
       "    <tr>\n",
       "      <th>0</th>\n",
       "      <td>41_HUMAN</td>\n",
       "      <td>FERM_N</td>\n",
       "      <td>KHRNMHCKVSLLDDTVYECVVEKHAKGQDLLKRVCEHLNLLEEDYF...</td>\n",
       "      <td>Short_nuclear_domain;41_HUMAN;FERM_N;205;63</td>\n",
       "      <td>False</td>\n",
       "      <td>False</td>\n",
       "      <td>Short nuclear domain</td>\n",
       "      <td>205</td>\n",
       "      <td>63.0</td>\n",
       "    </tr>\n",
       "    <tr>\n",
       "      <th>1</th>\n",
       "      <td>41_HUMAN</td>\n",
       "      <td>FA</td>\n",
       "      <td>VEHHTFFRLTSTDTIPKSKFLALGSKFRYSGRTQAQTRQASALIDR...</td>\n",
       "      <td>Short_nuclear_domain;41_HUMAN;FA;480;43</td>\n",
       "      <td>False</td>\n",
       "      <td>False</td>\n",
       "      <td>Short nuclear domain</td>\n",
       "      <td>480</td>\n",
       "      <td>43.0</td>\n",
       "    </tr>\n",
       "    <tr>\n",
       "      <th>2</th>\n",
       "      <td>41_HUMAN</td>\n",
       "      <td>SAB</td>\n",
       "      <td>ERLDGENIYIRHSNLMLEDLDKSQEEIKKHHASISELKKNFMESVP...</td>\n",
       "      <td>Short_nuclear_domain;41_HUMAN;SAB;651;48</td>\n",
       "      <td>False</td>\n",
       "      <td>True</td>\n",
       "      <td>Short nuclear domain</td>\n",
       "      <td>651</td>\n",
       "      <td>48.0</td>\n",
       "    </tr>\n",
       "    <tr>\n",
       "      <th>3</th>\n",
       "      <td>A1CF_HUMAN</td>\n",
       "      <td>RRM_1</td>\n",
       "      <td>ERGCEIFIGKLPRDLFEDELIPLCEKIGKIYEMRMMMDFNGNNRGY...</td>\n",
       "      <td>Short_nuclear_domain;A1CF_HUMAN;RRM_1;52;69</td>\n",
       "      <td>False</td>\n",
       "      <td>False</td>\n",
       "      <td>Short nuclear domain</td>\n",
       "      <td>52</td>\n",
       "      <td>69.0</td>\n",
       "    </tr>\n",
       "    <tr>\n",
       "      <th>4</th>\n",
       "      <td>A1CF_HUMAN</td>\n",
       "      <td>RRM_1</td>\n",
       "      <td>ASVDNCRLFVGGIPKTKKREEILSEMKKVTEGVVDVIVYPSAADKT...</td>\n",
       "      <td>Short_nuclear_domain;A1CF_HUMAN;RRM_1;130;65</td>\n",
       "      <td>False</td>\n",
       "      <td>True</td>\n",
       "      <td>Short nuclear domain</td>\n",
       "      <td>130</td>\n",
       "      <td>65.0</td>\n",
       "    </tr>\n",
       "    <tr>\n",
       "      <th>...</th>\n",
       "      <td>...</td>\n",
       "      <td>...</td>\n",
       "      <td>...</td>\n",
       "      <td>...</td>\n",
       "      <td>...</td>\n",
       "      <td>...</td>\n",
       "      <td>...</td>\n",
       "      <td>...</td>\n",
       "      <td>...</td>\n",
       "    </tr>\n",
       "    <tr>\n",
       "      <th>5364</th>\n",
       "      <td>DMD_HUMAN</td>\n",
       "      <td>NaN</td>\n",
       "      <td>RLEARMQILEDHNKQLESQLHRLRQLLEQPQAEAKVNGTTVSSPST...</td>\n",
       "      <td>DMD_control_tiles;ENSG00000198947;;357;</td>\n",
       "      <td>False</td>\n",
       "      <td>True</td>\n",
       "      <td>DMD control tiles</td>\n",
       "      <td>357</td>\n",
       "      <td>NaN</td>\n",
       "    </tr>\n",
       "    <tr>\n",
       "      <th>5365</th>\n",
       "      <td>DMD_HUMAN</td>\n",
       "      <td>NaN</td>\n",
       "      <td>DHNKQLESQLHRLRQLLEQPQAEAKVNGTTVSSPSTSLQRSDSSQP...</td>\n",
       "      <td>DMD_control_tiles;ENSG00000198947;;358;</td>\n",
       "      <td>False</td>\n",
       "      <td>True</td>\n",
       "      <td>DMD control tiles</td>\n",
       "      <td>358</td>\n",
       "      <td>NaN</td>\n",
       "    </tr>\n",
       "    <tr>\n",
       "      <th>5366</th>\n",
       "      <td>DMD_HUMAN</td>\n",
       "      <td>NaN</td>\n",
       "      <td>HRLRQLLEQPQAEAKVNGTTVSSPSTSLQRSDSSQPMLLRVVGSQT...</td>\n",
       "      <td>DMD_control_tiles;ENSG00000198947;;359;</td>\n",
       "      <td>False</td>\n",
       "      <td>True</td>\n",
       "      <td>DMD control tiles</td>\n",
       "      <td>359</td>\n",
       "      <td>NaN</td>\n",
       "    </tr>\n",
       "    <tr>\n",
       "      <th>5367</th>\n",
       "      <td>DMD_HUMAN</td>\n",
       "      <td>NaN</td>\n",
       "      <td>QAEAKVNGTTVSSPSTSLQRSDSSQPMLLRVVGSQTSDSMGEEDLL...</td>\n",
       "      <td>DMD_control_tiles;ENSG00000198947;;360;</td>\n",
       "      <td>False</td>\n",
       "      <td>True</td>\n",
       "      <td>DMD control tiles</td>\n",
       "      <td>360</td>\n",
       "      <td>NaN</td>\n",
       "    </tr>\n",
       "    <tr>\n",
       "      <th>5368</th>\n",
       "      <td>DMD_HUMAN</td>\n",
       "      <td>NaN</td>\n",
       "      <td>VNGTTVSSPSTSLQRSDSSQPMLLRVVGSQTSDSMGEEDLLSPPQD...</td>\n",
       "      <td>DMD_control_tiles;ENSG00000198947;;361;</td>\n",
       "      <td>False</td>\n",
       "      <td>True</td>\n",
       "      <td>DMD control tiles</td>\n",
       "      <td>361</td>\n",
       "      <td>NaN</td>\n",
       "    </tr>\n",
       "  </tbody>\n",
       "</table>\n",
       "<p>5369 rows × 9 columns</p>\n",
       "</div>"
      ],
      "text/plain": [
       "     Gene entry name Domain ID  \\\n",
       "0           41_HUMAN    FERM_N   \n",
       "1           41_HUMAN        FA   \n",
       "2           41_HUMAN       SAB   \n",
       "3         A1CF_HUMAN     RRM_1   \n",
       "4         A1CF_HUMAN     RRM_1   \n",
       "...              ...       ...   \n",
       "5364       DMD_HUMAN       NaN   \n",
       "5365       DMD_HUMAN       NaN   \n",
       "5366       DMD_HUMAN       NaN   \n",
       "5367       DMD_HUMAN       NaN   \n",
       "5368       DMD_HUMAN       NaN   \n",
       "\n",
       "                               Extended Domain sequence  \\\n",
       "0     KHRNMHCKVSLLDDTVYECVVEKHAKGQDLLKRVCEHLNLLEEDYF...   \n",
       "1     VEHHTFFRLTSTDTIPKSKFLALGSKFRYSGRTQAQTRQASALIDR...   \n",
       "2     ERLDGENIYIRHSNLMLEDLDKSQEEIKKHHASISELKKNFMESVP...   \n",
       "3     ERGCEIFIGKLPRDLFEDELIPLCEKIGKIYEMRMMMDFNGNNRGY...   \n",
       "4     ASVDNCRLFVGGIPKTKKREEILSEMKKVTEGVVDVIVYPSAADKT...   \n",
       "...                                                 ...   \n",
       "5364  RLEARMQILEDHNKQLESQLHRLRQLLEQPQAEAKVNGTTVSSPST...   \n",
       "5365  DHNKQLESQLHRLRQLLEQPQAEAKVNGTTVSSPSTSLQRSDSSQP...   \n",
       "5366  HRLRQLLEQPQAEAKVNGTTVSSPSTSLQRSDSSQPMLLRVVGSQT...   \n",
       "5367  QAEAKVNGTTVSSPSTSLQRSDSSQPMLLRVVGSQTSDSMGEEDLL...   \n",
       "5368  VNGTTVSSPSTSLQRSDSSQPMLLRVVGSQTSDSMGEEDLLSPPQD...   \n",
       "\n",
       "                                             label    Hit  Well-expressed  \\\n",
       "0      Short_nuclear_domain;41_HUMAN;FERM_N;205;63  False           False   \n",
       "1          Short_nuclear_domain;41_HUMAN;FA;480;43  False           False   \n",
       "2         Short_nuclear_domain;41_HUMAN;SAB;651;48  False            True   \n",
       "3      Short_nuclear_domain;A1CF_HUMAN;RRM_1;52;69  False           False   \n",
       "4     Short_nuclear_domain;A1CF_HUMAN;RRM_1;130;65  False            True   \n",
       "...                                            ...    ...             ...   \n",
       "5364       DMD_control_tiles;ENSG00000198947;;357;  False            True   \n",
       "5365       DMD_control_tiles;ENSG00000198947;;358;  False            True   \n",
       "5366       DMD_control_tiles;ENSG00000198947;;359;  False            True   \n",
       "5367       DMD_control_tiles;ENSG00000198947;;360;  False            True   \n",
       "5368       DMD_control_tiles;ENSG00000198947;;361;  False            True   \n",
       "\n",
       "                  Category  Domain start  Domain length  \n",
       "0     Short nuclear domain           205           63.0  \n",
       "1     Short nuclear domain           480           43.0  \n",
       "2     Short nuclear domain           651           48.0  \n",
       "3     Short nuclear domain            52           69.0  \n",
       "4     Short nuclear domain           130           65.0  \n",
       "...                    ...           ...            ...  \n",
       "5364     DMD control tiles           357            NaN  \n",
       "5365     DMD control tiles           358            NaN  \n",
       "5366     DMD control tiles           359            NaN  \n",
       "5367     DMD control tiles           360            NaN  \n",
       "5368     DMD control tiles           361            NaN  \n",
       "\n",
       "[5369 rows x 9 columns]"
      ]
     },
     "execution_count": 9,
     "metadata": {},
     "output_type": "execute_result"
    }
   ],
   "source": [
    "nuc_info"
   ]
  },
  {
   "cell_type": "code",
   "execution_count": 10,
   "metadata": {
    "collapsed": false,
    "jupyter": {
     "outputs_hidden": false
    },
    "pycharm": {
     "name": "#%%\n"
    }
   },
   "outputs": [],
   "source": [
    "nuc_csv_gene_name = pd.merge(nuc_info[[\"Gene entry name\", \"Extended Domain sequence\"]],nuc_csv,\n",
    "                             how=\"inner\", on=\"Extended Domain sequence\")"
   ]
  },
  {
   "cell_type": "code",
   "execution_count": 11,
   "metadata": {
    "collapsed": false,
    "jupyter": {
     "outputs_hidden": false
    },
    "pycharm": {
     "name": "#%%\n"
    }
   },
   "outputs": [
    {
     "data": {
      "text/html": [
       "<div>\n",
       "<style scoped>\n",
       "    .dataframe tbody tr th:only-of-type {\n",
       "        vertical-align: middle;\n",
       "    }\n",
       "\n",
       "    .dataframe tbody tr th {\n",
       "        vertical-align: top;\n",
       "    }\n",
       "\n",
       "    .dataframe thead th {\n",
       "        text-align: right;\n",
       "    }\n",
       "</style>\n",
       "<table border=\"1\" class=\"dataframe\">\n",
       "  <thead>\n",
       "    <tr style=\"text-align: right;\">\n",
       "      <th></th>\n",
       "      <th>Gene entry name</th>\n",
       "      <th>Extended Domain sequence</th>\n",
       "      <th>Unnamed: 0</th>\n",
       "      <th>Avg Act</th>\n",
       "      <th>avg_UniRep_0</th>\n",
       "      <th>avg_UniRep_1</th>\n",
       "      <th>avg_UniRep_2</th>\n",
       "      <th>avg_UniRep_3</th>\n",
       "      <th>avg_UniRep_4</th>\n",
       "      <th>avg_UniRep_5</th>\n",
       "      <th>...</th>\n",
       "      <th>avg_UniRep_1890</th>\n",
       "      <th>avg_UniRep_1891</th>\n",
       "      <th>avg_UniRep_1892</th>\n",
       "      <th>avg_UniRep_1893</th>\n",
       "      <th>avg_UniRep_1894</th>\n",
       "      <th>avg_UniRep_1895</th>\n",
       "      <th>avg_UniRep_1896</th>\n",
       "      <th>avg_UniRep_1897</th>\n",
       "      <th>avg_UniRep_1898</th>\n",
       "      <th>avg_UniRep_1899</th>\n",
       "    </tr>\n",
       "  </thead>\n",
       "  <tbody>\n",
       "    <tr>\n",
       "      <th>0</th>\n",
       "      <td>41_HUMAN</td>\n",
       "      <td>ERLDGENIYIRHSNLMLEDLDKSQEEIKKHHASISELKKNFMESVP...</td>\n",
       "      <td>2</td>\n",
       "      <td>0.4318</td>\n",
       "      <td>0.012074</td>\n",
       "      <td>-0.073621</td>\n",
       "      <td>0.020062</td>\n",
       "      <td>0.001610</td>\n",
       "      <td>-0.128022</td>\n",
       "      <td>-0.001691</td>\n",
       "      <td>...</td>\n",
       "      <td>0.078327</td>\n",
       "      <td>0.006506</td>\n",
       "      <td>-0.149890</td>\n",
       "      <td>0.033899</td>\n",
       "      <td>-0.047009</td>\n",
       "      <td>-0.037723</td>\n",
       "      <td>0.024262</td>\n",
       "      <td>-0.021594</td>\n",
       "      <td>0.083059</td>\n",
       "      <td>0.064712</td>\n",
       "    </tr>\n",
       "    <tr>\n",
       "      <th>1</th>\n",
       "      <td>A1CF_HUMAN</td>\n",
       "      <td>ASVDNCRLFVGGIPKTKKREEILSEMKKVTEGVVDVIVYPSAADKT...</td>\n",
       "      <td>4</td>\n",
       "      <td>5.2398</td>\n",
       "      <td>0.052558</td>\n",
       "      <td>0.011248</td>\n",
       "      <td>0.093146</td>\n",
       "      <td>0.003814</td>\n",
       "      <td>-0.304034</td>\n",
       "      <td>0.035568</td>\n",
       "      <td>...</td>\n",
       "      <td>0.042389</td>\n",
       "      <td>-0.022166</td>\n",
       "      <td>-0.011117</td>\n",
       "      <td>0.008122</td>\n",
       "      <td>-0.018223</td>\n",
       "      <td>0.024674</td>\n",
       "      <td>0.016178</td>\n",
       "      <td>0.231606</td>\n",
       "      <td>-0.010834</td>\n",
       "      <td>-0.020774</td>\n",
       "    </tr>\n",
       "    <tr>\n",
       "      <th>2</th>\n",
       "      <td>A1CF_HUMAN</td>\n",
       "      <td>TMSSVKILYVRNLMLSTSEEMIEKEFNNIKPGAVERVKKIRDYAFV...</td>\n",
       "      <td>5</td>\n",
       "      <td>0.6996</td>\n",
       "      <td>0.040102</td>\n",
       "      <td>0.004494</td>\n",
       "      <td>0.111519</td>\n",
       "      <td>0.004994</td>\n",
       "      <td>-0.198010</td>\n",
       "      <td>0.039939</td>\n",
       "      <td>...</td>\n",
       "      <td>0.067723</td>\n",
       "      <td>-0.042996</td>\n",
       "      <td>-0.015202</td>\n",
       "      <td>0.042177</td>\n",
       "      <td>0.058805</td>\n",
       "      <td>0.011356</td>\n",
       "      <td>-0.071480</td>\n",
       "      <td>0.184803</td>\n",
       "      <td>-0.015600</td>\n",
       "      <td>-0.033623</td>\n",
       "    </tr>\n",
       "    <tr>\n",
       "      <th>3</th>\n",
       "      <td>ABI1_HUMAN</td>\n",
       "      <td>HISQTVDIHKEKVARREIGILTTNKNTSRTHKIIAPANMERPVRYI...</td>\n",
       "      <td>10</td>\n",
       "      <td>1.6934</td>\n",
       "      <td>0.008489</td>\n",
       "      <td>-0.069276</td>\n",
       "      <td>0.019714</td>\n",
       "      <td>0.000366</td>\n",
       "      <td>-0.102570</td>\n",
       "      <td>0.030890</td>\n",
       "      <td>...</td>\n",
       "      <td>0.053821</td>\n",
       "      <td>0.108363</td>\n",
       "      <td>-0.128192</td>\n",
       "      <td>0.032764</td>\n",
       "      <td>-0.066890</td>\n",
       "      <td>-0.010566</td>\n",
       "      <td>0.047766</td>\n",
       "      <td>0.005707</td>\n",
       "      <td>0.076226</td>\n",
       "      <td>-0.009172</td>\n",
       "    </tr>\n",
       "    <tr>\n",
       "      <th>4</th>\n",
       "      <td>ABI1_HUMAN</td>\n",
       "      <td>VQYNDPYADGDPAWAPKNYIEKVVAIYDYTKDKDDELSFMEGAIIY...</td>\n",
       "      <td>11</td>\n",
       "      <td>1.0383</td>\n",
       "      <td>0.015876</td>\n",
       "      <td>-0.041567</td>\n",
       "      <td>0.044769</td>\n",
       "      <td>-0.008578</td>\n",
       "      <td>-0.283425</td>\n",
       "      <td>0.026419</td>\n",
       "      <td>...</td>\n",
       "      <td>0.025633</td>\n",
       "      <td>0.109751</td>\n",
       "      <td>-0.079750</td>\n",
       "      <td>0.038327</td>\n",
       "      <td>-0.032536</td>\n",
       "      <td>0.010741</td>\n",
       "      <td>-0.009729</td>\n",
       "      <td>0.094906</td>\n",
       "      <td>0.056365</td>\n",
       "      <td>0.016471</td>\n",
       "    </tr>\n",
       "    <tr>\n",
       "      <th>...</th>\n",
       "      <td>...</td>\n",
       "      <td>...</td>\n",
       "      <td>...</td>\n",
       "      <td>...</td>\n",
       "      <td>...</td>\n",
       "      <td>...</td>\n",
       "      <td>...</td>\n",
       "      <td>...</td>\n",
       "      <td>...</td>\n",
       "      <td>...</td>\n",
       "      <td>...</td>\n",
       "      <td>...</td>\n",
       "      <td>...</td>\n",
       "      <td>...</td>\n",
       "      <td>...</td>\n",
       "      <td>...</td>\n",
       "      <td>...</td>\n",
       "      <td>...</td>\n",
       "      <td>...</td>\n",
       "      <td>...</td>\n",
       "      <td>...</td>\n",
       "    </tr>\n",
       "    <tr>\n",
       "      <th>2630</th>\n",
       "      <td>DMD_HUMAN</td>\n",
       "      <td>RLEARMQILEDHNKQLESQLHRLRQLLEQPQAEAKVNGTTVSSPST...</td>\n",
       "      <td>4472</td>\n",
       "      <td>1.0083</td>\n",
       "      <td>0.012495</td>\n",
       "      <td>-0.053070</td>\n",
       "      <td>0.009681</td>\n",
       "      <td>0.002972</td>\n",
       "      <td>-0.219202</td>\n",
       "      <td>0.001150</td>\n",
       "      <td>...</td>\n",
       "      <td>0.047507</td>\n",
       "      <td>0.027719</td>\n",
       "      <td>-0.055795</td>\n",
       "      <td>0.030004</td>\n",
       "      <td>-0.049132</td>\n",
       "      <td>-0.037203</td>\n",
       "      <td>0.027419</td>\n",
       "      <td>0.008728</td>\n",
       "      <td>0.166702</td>\n",
       "      <td>0.188963</td>\n",
       "    </tr>\n",
       "    <tr>\n",
       "      <th>2631</th>\n",
       "      <td>DMD_HUMAN</td>\n",
       "      <td>DHNKQLESQLHRLRQLLEQPQAEAKVNGTTVSSPSTSLQRSDSSQP...</td>\n",
       "      <td>4473</td>\n",
       "      <td>1.7502</td>\n",
       "      <td>0.012972</td>\n",
       "      <td>-0.091552</td>\n",
       "      <td>0.006169</td>\n",
       "      <td>0.005161</td>\n",
       "      <td>-0.150370</td>\n",
       "      <td>0.003814</td>\n",
       "      <td>...</td>\n",
       "      <td>0.051011</td>\n",
       "      <td>0.034758</td>\n",
       "      <td>-0.090021</td>\n",
       "      <td>0.032878</td>\n",
       "      <td>-0.041056</td>\n",
       "      <td>-0.027500</td>\n",
       "      <td>0.018148</td>\n",
       "      <td>-0.044200</td>\n",
       "      <td>0.129759</td>\n",
       "      <td>0.148797</td>\n",
       "    </tr>\n",
       "    <tr>\n",
       "      <th>2632</th>\n",
       "      <td>DMD_HUMAN</td>\n",
       "      <td>HRLRQLLEQPQAEAKVNGTTVSSPSTSLQRSDSSQPMLLRVVGSQT...</td>\n",
       "      <td>4474</td>\n",
       "      <td>-0.1902</td>\n",
       "      <td>0.013150</td>\n",
       "      <td>-0.100619</td>\n",
       "      <td>0.002667</td>\n",
       "      <td>0.007066</td>\n",
       "      <td>-0.102209</td>\n",
       "      <td>0.012811</td>\n",
       "      <td>...</td>\n",
       "      <td>0.046191</td>\n",
       "      <td>-0.030839</td>\n",
       "      <td>-0.127151</td>\n",
       "      <td>0.035726</td>\n",
       "      <td>-0.032085</td>\n",
       "      <td>-0.027729</td>\n",
       "      <td>0.017665</td>\n",
       "      <td>-0.035823</td>\n",
       "      <td>0.163938</td>\n",
       "      <td>0.045946</td>\n",
       "    </tr>\n",
       "    <tr>\n",
       "      <th>2633</th>\n",
       "      <td>DMD_HUMAN</td>\n",
       "      <td>QAEAKVNGTTVSSPSTSLQRSDSSQPMLLRVVGSQTSDSMGEEDLL...</td>\n",
       "      <td>4475</td>\n",
       "      <td>-0.0173</td>\n",
       "      <td>0.014561</td>\n",
       "      <td>-0.101719</td>\n",
       "      <td>0.003215</td>\n",
       "      <td>0.006948</td>\n",
       "      <td>-0.161066</td>\n",
       "      <td>0.013095</td>\n",
       "      <td>...</td>\n",
       "      <td>0.048263</td>\n",
       "      <td>0.016245</td>\n",
       "      <td>-0.080691</td>\n",
       "      <td>0.031299</td>\n",
       "      <td>-0.047760</td>\n",
       "      <td>-0.044100</td>\n",
       "      <td>0.016116</td>\n",
       "      <td>-0.045584</td>\n",
       "      <td>0.178356</td>\n",
       "      <td>0.073703</td>\n",
       "    </tr>\n",
       "    <tr>\n",
       "      <th>2634</th>\n",
       "      <td>DMD_HUMAN</td>\n",
       "      <td>VNGTTVSSPSTSLQRSDSSQPMLLRVVGSQTSDSMGEEDLLSPPQD...</td>\n",
       "      <td>4476</td>\n",
       "      <td>-0.4492</td>\n",
       "      <td>0.013127</td>\n",
       "      <td>-0.109626</td>\n",
       "      <td>0.003253</td>\n",
       "      <td>0.006866</td>\n",
       "      <td>-0.151920</td>\n",
       "      <td>0.012475</td>\n",
       "      <td>...</td>\n",
       "      <td>0.042408</td>\n",
       "      <td>0.040142</td>\n",
       "      <td>-0.081219</td>\n",
       "      <td>0.029182</td>\n",
       "      <td>-0.049697</td>\n",
       "      <td>-0.034374</td>\n",
       "      <td>0.004789</td>\n",
       "      <td>-0.019035</td>\n",
       "      <td>0.227032</td>\n",
       "      <td>0.074296</td>\n",
       "    </tr>\n",
       "  </tbody>\n",
       "</table>\n",
       "<p>2635 rows × 1904 columns</p>\n",
       "</div>"
      ],
      "text/plain": [
       "     Gene entry name                           Extended Domain sequence  \\\n",
       "0           41_HUMAN  ERLDGENIYIRHSNLMLEDLDKSQEEIKKHHASISELKKNFMESVP...   \n",
       "1         A1CF_HUMAN  ASVDNCRLFVGGIPKTKKREEILSEMKKVTEGVVDVIVYPSAADKT...   \n",
       "2         A1CF_HUMAN  TMSSVKILYVRNLMLSTSEEMIEKEFNNIKPGAVERVKKIRDYAFV...   \n",
       "3         ABI1_HUMAN  HISQTVDIHKEKVARREIGILTTNKNTSRTHKIIAPANMERPVRYI...   \n",
       "4         ABI1_HUMAN  VQYNDPYADGDPAWAPKNYIEKVVAIYDYTKDKDDELSFMEGAIIY...   \n",
       "...              ...                                                ...   \n",
       "2630       DMD_HUMAN  RLEARMQILEDHNKQLESQLHRLRQLLEQPQAEAKVNGTTVSSPST...   \n",
       "2631       DMD_HUMAN  DHNKQLESQLHRLRQLLEQPQAEAKVNGTTVSSPSTSLQRSDSSQP...   \n",
       "2632       DMD_HUMAN  HRLRQLLEQPQAEAKVNGTTVSSPSTSLQRSDSSQPMLLRVVGSQT...   \n",
       "2633       DMD_HUMAN  QAEAKVNGTTVSSPSTSLQRSDSSQPMLLRVVGSQTSDSMGEEDLL...   \n",
       "2634       DMD_HUMAN  VNGTTVSSPSTSLQRSDSSQPMLLRVVGSQTSDSMGEEDLLSPPQD...   \n",
       "\n",
       "      Unnamed: 0  Avg Act  avg_UniRep_0  avg_UniRep_1  avg_UniRep_2  \\\n",
       "0              2   0.4318      0.012074     -0.073621      0.020062   \n",
       "1              4   5.2398      0.052558      0.011248      0.093146   \n",
       "2              5   0.6996      0.040102      0.004494      0.111519   \n",
       "3             10   1.6934      0.008489     -0.069276      0.019714   \n",
       "4             11   1.0383      0.015876     -0.041567      0.044769   \n",
       "...          ...      ...           ...           ...           ...   \n",
       "2630        4472   1.0083      0.012495     -0.053070      0.009681   \n",
       "2631        4473   1.7502      0.012972     -0.091552      0.006169   \n",
       "2632        4474  -0.1902      0.013150     -0.100619      0.002667   \n",
       "2633        4475  -0.0173      0.014561     -0.101719      0.003215   \n",
       "2634        4476  -0.4492      0.013127     -0.109626      0.003253   \n",
       "\n",
       "      avg_UniRep_3  avg_UniRep_4  avg_UniRep_5  ...  avg_UniRep_1890  \\\n",
       "0         0.001610     -0.128022     -0.001691  ...         0.078327   \n",
       "1         0.003814     -0.304034      0.035568  ...         0.042389   \n",
       "2         0.004994     -0.198010      0.039939  ...         0.067723   \n",
       "3         0.000366     -0.102570      0.030890  ...         0.053821   \n",
       "4        -0.008578     -0.283425      0.026419  ...         0.025633   \n",
       "...            ...           ...           ...  ...              ...   \n",
       "2630      0.002972     -0.219202      0.001150  ...         0.047507   \n",
       "2631      0.005161     -0.150370      0.003814  ...         0.051011   \n",
       "2632      0.007066     -0.102209      0.012811  ...         0.046191   \n",
       "2633      0.006948     -0.161066      0.013095  ...         0.048263   \n",
       "2634      0.006866     -0.151920      0.012475  ...         0.042408   \n",
       "\n",
       "      avg_UniRep_1891  avg_UniRep_1892  avg_UniRep_1893  avg_UniRep_1894  \\\n",
       "0            0.006506        -0.149890         0.033899        -0.047009   \n",
       "1           -0.022166        -0.011117         0.008122        -0.018223   \n",
       "2           -0.042996        -0.015202         0.042177         0.058805   \n",
       "3            0.108363        -0.128192         0.032764        -0.066890   \n",
       "4            0.109751        -0.079750         0.038327        -0.032536   \n",
       "...               ...              ...              ...              ...   \n",
       "2630         0.027719        -0.055795         0.030004        -0.049132   \n",
       "2631         0.034758        -0.090021         0.032878        -0.041056   \n",
       "2632        -0.030839        -0.127151         0.035726        -0.032085   \n",
       "2633         0.016245        -0.080691         0.031299        -0.047760   \n",
       "2634         0.040142        -0.081219         0.029182        -0.049697   \n",
       "\n",
       "      avg_UniRep_1895  avg_UniRep_1896  avg_UniRep_1897  avg_UniRep_1898  \\\n",
       "0           -0.037723         0.024262        -0.021594         0.083059   \n",
       "1            0.024674         0.016178         0.231606        -0.010834   \n",
       "2            0.011356        -0.071480         0.184803        -0.015600   \n",
       "3           -0.010566         0.047766         0.005707         0.076226   \n",
       "4            0.010741        -0.009729         0.094906         0.056365   \n",
       "...               ...              ...              ...              ...   \n",
       "2630        -0.037203         0.027419         0.008728         0.166702   \n",
       "2631        -0.027500         0.018148        -0.044200         0.129759   \n",
       "2632        -0.027729         0.017665        -0.035823         0.163938   \n",
       "2633        -0.044100         0.016116        -0.045584         0.178356   \n",
       "2634        -0.034374         0.004789        -0.019035         0.227032   \n",
       "\n",
       "      avg_UniRep_1899  \n",
       "0            0.064712  \n",
       "1           -0.020774  \n",
       "2           -0.033623  \n",
       "3           -0.009172  \n",
       "4            0.016471  \n",
       "...               ...  \n",
       "2630         0.188963  \n",
       "2631         0.148797  \n",
       "2632         0.045946  \n",
       "2633         0.073703  \n",
       "2634         0.074296  \n",
       "\n",
       "[2635 rows x 1904 columns]"
      ]
     },
     "execution_count": 11,
     "metadata": {},
     "output_type": "execute_result"
    }
   ],
   "source": [
    "nuc_csv_gene_name\n"
   ]
  },
  {
   "cell_type": "code",
   "execution_count": 12,
   "metadata": {
    "collapsed": false,
    "jupyter": {
     "outputs_hidden": false
    },
    "pycharm": {
     "name": "#%%\n"
    }
   },
   "outputs": [],
   "source": [
    "unique_gene = nuc_csv_gene_name[\"Gene entry name\"].unique()\n"
   ]
  },
  {
   "cell_type": "code",
   "execution_count": 13,
   "metadata": {
    "collapsed": false,
    "jupyter": {
     "outputs_hidden": false
    },
    "pycharm": {
     "name": "#%%\n"
    }
   },
   "outputs": [
    {
     "data": {
      "text/plain": [
       "1593"
      ]
     },
     "execution_count": 13,
     "metadata": {},
     "output_type": "execute_result"
    }
   ],
   "source": [
    "len(unique_gene)"
   ]
  },
  {
   "cell_type": "code",
   "execution_count": 14,
   "metadata": {
    "collapsed": false,
    "jupyter": {
     "outputs_hidden": false
    },
    "pycharm": {
     "name": "#%%\n"
    }
   },
   "outputs": [
    {
     "data": {
      "text/plain": [
       "DMD_HUMAN      189\n",
       "NOTC2_HUMAN     32\n",
       "NOTC1_HUMAN     31\n",
       "LRP1_HUMAN      29\n",
       "NOTC3_HUMAN     23\n",
       "              ... \n",
       "Z780B_HUMAN      1\n",
       "HINFP_HUMAN      1\n",
       "ZKSC5_HUMAN      1\n",
       "ACACB_HUMAN      1\n",
       "KDM4E_HUMAN      1\n",
       "Name: Gene entry name, Length: 1592, dtype: int64"
      ]
     },
     "execution_count": 14,
     "metadata": {},
     "output_type": "execute_result"
    }
   ],
   "source": [
    "nuc_csv_gene_name[\"Gene entry name\"].value_counts()"
   ]
  },
  {
   "cell_type": "code",
   "execution_count": 15,
   "metadata": {
    "collapsed": false,
    "jupyter": {
     "outputs_hidden": false
    },
    "pycharm": {
     "name": "#%%\n"
    }
   },
   "outputs": [],
   "source": [
    "nuc_csv_gene_name = nuc_csv_gene_name.fillna(\"unknown\")"
   ]
  },
  {
   "cell_type": "code",
   "execution_count": 16,
   "metadata": {
    "collapsed": false,
    "jupyter": {
     "outputs_hidden": false
    },
    "pycharm": {
     "name": "#%%\n"
    }
   },
   "outputs": [
    {
     "data": {
      "text/plain": [
       "(array([1.166e+03, 2.760e+02, 9.600e+01, 2.700e+01, 7.000e+00, 6.000e+00,\n",
       "        2.000e+00, 4.000e+00, 1.000e+00]),\n",
       " array([ 0.        ,  1.11111111,  2.22222222,  3.33333333,  4.44444444,\n",
       "         5.55555556,  6.66666667,  7.77777778,  8.88888889, 10.        ]),\n",
       " <a list of 9 Patch objects>)"
      ]
     },
     "execution_count": 16,
     "metadata": {},
     "output_type": "execute_result"
    },
    {
     "data": {
      "image/png": "[encoded data removed]",
      "text/plain": [
       "<Figure size 432x288 with 1 Axes>"
      ]
     },
     "metadata": {
      "needs_background": "light"
     },
     "output_type": "display_data"
    }
   ],
   "source": [
    "import matplotlib.pyplot as plt\n",
    "plt.hist(nuc_csv_gene_name[\"Gene entry name\"].value_counts(), range=(0,10), bins=9)"
   ]
  },
  {
   "cell_type": "code",
   "execution_count": 17,
   "metadata": {
    "collapsed": false,
    "jupyter": {
     "outputs_hidden": false
    },
    "pycharm": {
     "name": "#%%\n"
    }
   },
   "outputs": [],
   "source": [
    "from sklearn.model_selection import train_test_split\n",
    "gene_train_val_index, gene_test_index = train_test_split(list(range(len(unique_gene))), test_size=150, random_state=9001)"
   ]
  },
  {
   "cell_type": "code",
   "execution_count": 18,
   "metadata": {
    "collapsed": false,
    "jupyter": {
     "outputs_hidden": false
    },
    "pycharm": {
     "name": "#%%\n"
    }
   },
   "outputs": [],
   "source": [
    "gene_train_index, gene_val_index = train_test_split(gene_train_val_index, test_size=150, random_state=9001)"
   ]
  },
  {
   "cell_type": "code",
   "execution_count": 19,
   "metadata": {
    "collapsed": false,
    "jupyter": {
     "outputs_hidden": false
    },
    "pycharm": {
     "name": "#%%\n"
    }
   },
   "outputs": [
    {
     "name": "stdout",
     "output_type": "stream",
     "text": [
      "1293\n",
      "150\n",
      "150\n"
     ]
    }
   ],
   "source": [
    "print(len(gene_train_index))\n",
    "print(len(gene_val_index))\n",
    "print(len(gene_test_index))"
   ]
  },
  {
   "cell_type": "code",
   "execution_count": 20,
   "metadata": {
    "collapsed": false,
    "jupyter": {
     "outputs_hidden": false
    },
    "pycharm": {
     "name": "#%%\n"
    }
   },
   "outputs": [],
   "source": [
    "train_gene = unique_gene[gene_train_index]\n",
    "val_gene = unique_gene[gene_val_index]\n",
    "test_gene = unique_gene[gene_test_index]"
   ]
  },
  {
   "cell_type": "code",
   "execution_count": 21,
   "metadata": {
    "collapsed": false,
    "jupyter": {
     "outputs_hidden": false
    },
    "pycharm": {
     "name": "#%%\n"
    }
   },
   "outputs": [],
   "source": [
    "bool_train = nuc_csv_gene_name[\"Gene entry name\"].isin(train_gene)\n",
    "bool_val = nuc_csv_gene_name[\"Gene entry name\"].isin(val_gene)\n",
    "bool_test = nuc_csv_gene_name[\"Gene entry name\"].isin(test_gene)"
   ]
  },
  {
   "cell_type": "code",
   "execution_count": 22,
   "metadata": {
    "collapsed": false,
    "jupyter": {
     "outputs_hidden": false
    },
    "pycharm": {
     "name": "#%%\n"
    }
   },
   "outputs": [],
   "source": [
    "train_index = [i for i, t in enumerate(bool_train) if t]\n",
    "val_index = [i for i, t in enumerate(bool_val) if t]\n",
    "test_index = [i for i, t in enumerate(bool_test) if t]"
   ]
  },
  {
   "cell_type": "code",
   "execution_count": 23,
   "metadata": {
    "collapsed": false,
    "jupyter": {
     "outputs_hidden": false
    },
    "pycharm": {
     "name": "#%%\n"
    }
   },
   "outputs": [],
   "source": [
    "y_df = nuc_csv_gene_name.iloc[:,3]\n",
    "x_df = nuc_csv_gene_name.iloc[:,4:]"
   ]
  },
  {
   "cell_type": "code",
   "execution_count": 24,
   "metadata": {
    "collapsed": false,
    "jupyter": {
     "outputs_hidden": false
    },
    "pycharm": {
     "name": "#%%\n"
    }
   },
   "outputs": [
    {
     "data": {
      "text/plain": [
       "0    0.4318\n",
       "1    5.2398\n",
       "2    0.6996\n",
       "3    1.6934\n",
       "4    1.0383\n",
       "Name: Avg Act, dtype: float64"
      ]
     },
     "execution_count": 24,
     "metadata": {},
     "output_type": "execute_result"
    }
   ],
   "source": [
    "x_df.head()\n",
    "y_df.head()"
   ]
  },
  {
   "cell_type": "code",
   "execution_count": 25,
   "metadata": {
    "collapsed": false,
    "jupyter": {
     "outputs_hidden": false
    },
    "pycharm": {
     "name": "#%%\n"
    }
   },
   "outputs": [
    {
     "name": "stdout",
     "output_type": "stream",
     "text": [
      "2155\n",
      "205\n",
      "216\n"
     ]
    }
   ],
   "source": [
    "print(len(train_index))\n",
    "print(len(val_index))\n",
    "print(len(test_index))"
   ]
  },
  {
   "cell_type": "code",
   "execution_count": 26,
   "metadata": {
    "collapsed": false,
    "jupyter": {
     "outputs_hidden": false
    },
    "pycharm": {
     "name": "#%%\n"
    }
   },
   "outputs": [],
   "source": [
    "import json\n",
    "index_dict = {\"train_index\":train_index,\n",
    "              \"val_index\":val_index,\n",
    "              \"test_index\":test_index}\n",
    "with open(\"index_BareNucAct.json\", \"w\") as f:\n",
    "    json.dump(index_dict, f)"
   ]
  },
  {
   "cell_type": "code",
   "execution_count": 27,
   "metadata": {
    "collapsed": false,
    "jupyter": {
     "outputs_hidden": false
    },
    "pycharm": {
     "name": "#%%\n"
    }
   },
   "outputs": [],
   "source": [
    "nuc_repr_csv = pd.read_csv(\"UniRep1900_BareNucRepr.csv\")"
   ]
  },
  {
   "cell_type": "code",
   "execution_count": 28,
   "metadata": {},
   "outputs": [
    {
     "data": {
      "text/html": [
       "<div>\n",
       "<style scoped>\n",
       "    .dataframe tbody tr th:only-of-type {\n",
       "        vertical-align: middle;\n",
       "    }\n",
       "\n",
       "    .dataframe tbody tr th {\n",
       "        vertical-align: top;\n",
       "    }\n",
       "\n",
       "    .dataframe thead th {\n",
       "        text-align: right;\n",
       "    }\n",
       "</style>\n",
       "<table border=\"1\" class=\"dataframe\">\n",
       "  <thead>\n",
       "    <tr style=\"text-align: right;\">\n",
       "      <th></th>\n",
       "      <th>Unnamed: 0</th>\n",
       "      <th>Extended Domain sequence</th>\n",
       "      <th>Avg ReprD5</th>\n",
       "      <th>avg_UniRep_0</th>\n",
       "      <th>avg_UniRep_1</th>\n",
       "      <th>avg_UniRep_2</th>\n",
       "      <th>avg_UniRep_3</th>\n",
       "      <th>avg_UniRep_4</th>\n",
       "      <th>avg_UniRep_5</th>\n",
       "      <th>avg_UniRep_6</th>\n",
       "      <th>...</th>\n",
       "      <th>avg_UniRep_1890</th>\n",
       "      <th>avg_UniRep_1891</th>\n",
       "      <th>avg_UniRep_1892</th>\n",
       "      <th>avg_UniRep_1893</th>\n",
       "      <th>avg_UniRep_1894</th>\n",
       "      <th>avg_UniRep_1895</th>\n",
       "      <th>avg_UniRep_1896</th>\n",
       "      <th>avg_UniRep_1897</th>\n",
       "      <th>avg_UniRep_1898</th>\n",
       "      <th>avg_UniRep_1899</th>\n",
       "    </tr>\n",
       "  </thead>\n",
       "  <tbody>\n",
       "    <tr>\n",
       "      <th>3288</th>\n",
       "      <td>5364</td>\n",
       "      <td>RLEARMQILEDHNKQLESQLHRLRQLLEQPQAEAKVNGTTVSSPST...</td>\n",
       "      <td>-0.6157</td>\n",
       "      <td>0.012495</td>\n",
       "      <td>-0.053070</td>\n",
       "      <td>0.009681</td>\n",
       "      <td>0.002972</td>\n",
       "      <td>-0.219202</td>\n",
       "      <td>0.001150</td>\n",
       "      <td>-0.303482</td>\n",
       "      <td>...</td>\n",
       "      <td>0.047507</td>\n",
       "      <td>0.027719</td>\n",
       "      <td>-0.055795</td>\n",
       "      <td>0.030004</td>\n",
       "      <td>-0.049132</td>\n",
       "      <td>-0.037203</td>\n",
       "      <td>0.027419</td>\n",
       "      <td>0.008728</td>\n",
       "      <td>0.166702</td>\n",
       "      <td>0.188963</td>\n",
       "    </tr>\n",
       "    <tr>\n",
       "      <th>3289</th>\n",
       "      <td>5365</td>\n",
       "      <td>DHNKQLESQLHRLRQLLEQPQAEAKVNGTTVSSPSTSLQRSDSSQP...</td>\n",
       "      <td>-0.8641</td>\n",
       "      <td>0.012972</td>\n",
       "      <td>-0.091552</td>\n",
       "      <td>0.006169</td>\n",
       "      <td>0.005161</td>\n",
       "      <td>-0.150370</td>\n",
       "      <td>0.003814</td>\n",
       "      <td>-0.396670</td>\n",
       "      <td>...</td>\n",
       "      <td>0.051011</td>\n",
       "      <td>0.034758</td>\n",
       "      <td>-0.090021</td>\n",
       "      <td>0.032878</td>\n",
       "      <td>-0.041056</td>\n",
       "      <td>-0.027500</td>\n",
       "      <td>0.018148</td>\n",
       "      <td>-0.044200</td>\n",
       "      <td>0.129759</td>\n",
       "      <td>0.148797</td>\n",
       "    </tr>\n",
       "    <tr>\n",
       "      <th>3290</th>\n",
       "      <td>5366</td>\n",
       "      <td>HRLRQLLEQPQAEAKVNGTTVSSPSTSLQRSDSSQPMLLRVVGSQT...</td>\n",
       "      <td>-0.5108</td>\n",
       "      <td>0.013150</td>\n",
       "      <td>-0.100619</td>\n",
       "      <td>0.002667</td>\n",
       "      <td>0.007066</td>\n",
       "      <td>-0.102209</td>\n",
       "      <td>0.012811</td>\n",
       "      <td>-0.424334</td>\n",
       "      <td>...</td>\n",
       "      <td>0.046191</td>\n",
       "      <td>-0.030839</td>\n",
       "      <td>-0.127151</td>\n",
       "      <td>0.035726</td>\n",
       "      <td>-0.032085</td>\n",
       "      <td>-0.027729</td>\n",
       "      <td>0.017665</td>\n",
       "      <td>-0.035823</td>\n",
       "      <td>0.163938</td>\n",
       "      <td>0.045946</td>\n",
       "    </tr>\n",
       "    <tr>\n",
       "      <th>3291</th>\n",
       "      <td>5367</td>\n",
       "      <td>QAEAKVNGTTVSSPSTSLQRSDSSQPMLLRVVGSQTSDSMGEEDLL...</td>\n",
       "      <td>-0.4240</td>\n",
       "      <td>0.014561</td>\n",
       "      <td>-0.101719</td>\n",
       "      <td>0.003215</td>\n",
       "      <td>0.006948</td>\n",
       "      <td>-0.161066</td>\n",
       "      <td>0.013095</td>\n",
       "      <td>-0.533865</td>\n",
       "      <td>...</td>\n",
       "      <td>0.048263</td>\n",
       "      <td>0.016245</td>\n",
       "      <td>-0.080691</td>\n",
       "      <td>0.031299</td>\n",
       "      <td>-0.047760</td>\n",
       "      <td>-0.044100</td>\n",
       "      <td>0.016116</td>\n",
       "      <td>-0.045584</td>\n",
       "      <td>0.178356</td>\n",
       "      <td>0.073703</td>\n",
       "    </tr>\n",
       "    <tr>\n",
       "      <th>3292</th>\n",
       "      <td>5368</td>\n",
       "      <td>VNGTTVSSPSTSLQRSDSSQPMLLRVVGSQTSDSMGEEDLLSPPQD...</td>\n",
       "      <td>-0.4209</td>\n",
       "      <td>0.013127</td>\n",
       "      <td>-0.109626</td>\n",
       "      <td>0.003253</td>\n",
       "      <td>0.006866</td>\n",
       "      <td>-0.151920</td>\n",
       "      <td>0.012475</td>\n",
       "      <td>-0.584668</td>\n",
       "      <td>...</td>\n",
       "      <td>0.042408</td>\n",
       "      <td>0.040142</td>\n",
       "      <td>-0.081219</td>\n",
       "      <td>0.029182</td>\n",
       "      <td>-0.049697</td>\n",
       "      <td>-0.034374</td>\n",
       "      <td>0.004789</td>\n",
       "      <td>-0.019035</td>\n",
       "      <td>0.227032</td>\n",
       "      <td>0.074296</td>\n",
       "    </tr>\n",
       "  </tbody>\n",
       "</table>\n",
       "<p>5 rows × 1903 columns</p>\n",
       "</div>"
      ],
      "text/plain": [
       "      Unnamed: 0                           Extended Domain sequence  \\\n",
       "3288        5364  RLEARMQILEDHNKQLESQLHRLRQLLEQPQAEAKVNGTTVSSPST...   \n",
       "3289        5365  DHNKQLESQLHRLRQLLEQPQAEAKVNGTTVSSPSTSLQRSDSSQP...   \n",
       "3290        5366  HRLRQLLEQPQAEAKVNGTTVSSPSTSLQRSDSSQPMLLRVVGSQT...   \n",
       "3291        5367  QAEAKVNGTTVSSPSTSLQRSDSSQPMLLRVVGSQTSDSMGEEDLL...   \n",
       "3292        5368  VNGTTVSSPSTSLQRSDSSQPMLLRVVGSQTSDSMGEEDLLSPPQD...   \n",
       "\n",
       "      Avg ReprD5  avg_UniRep_0  avg_UniRep_1  avg_UniRep_2  avg_UniRep_3  \\\n",
       "3288     -0.6157      0.012495     -0.053070      0.009681      0.002972   \n",
       "3289     -0.8641      0.012972     -0.091552      0.006169      0.005161   \n",
       "3290     -0.5108      0.013150     -0.100619      0.002667      0.007066   \n",
       "3291     -0.4240      0.014561     -0.101719      0.003215      0.006948   \n",
       "3292     -0.4209      0.013127     -0.109626      0.003253      0.006866   \n",
       "\n",
       "      avg_UniRep_4  avg_UniRep_5  avg_UniRep_6  ...  avg_UniRep_1890  \\\n",
       "3288     -0.219202      0.001150     -0.303482  ...         0.047507   \n",
       "3289     -0.150370      0.003814     -0.396670  ...         0.051011   \n",
       "3290     -0.102209      0.012811     -0.424334  ...         0.046191   \n",
       "3291     -0.161066      0.013095     -0.533865  ...         0.048263   \n",
       "3292     -0.151920      0.012475     -0.584668  ...         0.042408   \n",
       "\n",
       "      avg_UniRep_1891  avg_UniRep_1892  avg_UniRep_1893  avg_UniRep_1894  \\\n",
       "3288         0.027719        -0.055795         0.030004        -0.049132   \n",
       "3289         0.034758        -0.090021         0.032878        -0.041056   \n",
       "3290        -0.030839        -0.127151         0.035726        -0.032085   \n",
       "3291         0.016245        -0.080691         0.031299        -0.047760   \n",
       "3292         0.040142        -0.081219         0.029182        -0.049697   \n",
       "\n",
       "      avg_UniRep_1895  avg_UniRep_1896  avg_UniRep_1897  avg_UniRep_1898  \\\n",
       "3288        -0.037203         0.027419         0.008728         0.166702   \n",
       "3289        -0.027500         0.018148        -0.044200         0.129759   \n",
       "3290        -0.027729         0.017665        -0.035823         0.163938   \n",
       "3291        -0.044100         0.016116        -0.045584         0.178356   \n",
       "3292        -0.034374         0.004789        -0.019035         0.227032   \n",
       "\n",
       "      avg_UniRep_1899  \n",
       "3288         0.188963  \n",
       "3289         0.148797  \n",
       "3290         0.045946  \n",
       "3291         0.073703  \n",
       "3292         0.074296  \n",
       "\n",
       "[5 rows x 1903 columns]"
      ]
     },
     "execution_count": 28,
     "metadata": {},
     "output_type": "execute_result"
    }
   ],
   "source": [
    "nuc_repr_csv.tail()"
   ]
  },
  {
   "cell_type": "code",
   "execution_count": 29,
   "metadata": {
    "collapsed": false,
    "jupyter": {
     "outputs_hidden": false
    },
    "pycharm": {
     "name": "#%%\n"
    }
   },
   "outputs": [],
   "source": [
    "nuc_repr_csv_gene_name = pd.merge(nuc_info[[\"Gene entry name\", \"Extended Domain sequence\"]],nuc_repr_csv,\n",
    "                                  how=\"inner\", on=\"Extended Domain sequence\")"
   ]
  },
  {
   "cell_type": "code",
   "execution_count": 46,
   "metadata": {},
   "outputs": [
    {
     "data": {
      "text/plain": [
       "DMD_HUMAN      246\n",
       "NOTC1_HUMAN     34\n",
       "NOTC2_HUMAN     32\n",
       "LRP1_HUMAN      30\n",
       "NOTC3_HUMAN     25\n",
       "              ... \n",
       "HME1_HUMAN       1\n",
       "Z780B_HUMAN      1\n",
       "HINFP_HUMAN      1\n",
       "SGO1_HUMAN       1\n",
       "KDM4E_HUMAN      1\n",
       "Name: Gene entry name, Length: 1940, dtype: int64"
      ]
     },
     "execution_count": 46,
     "metadata": {},
     "output_type": "execute_result"
    }
   ],
   "source": [
    "nuc_repr_csv_gene_name[\"Gene entry name\"].value_counts()"
   ]
  },
  {
   "cell_type": "code",
   "execution_count": 47,
   "metadata": {},
   "outputs": [],
   "source": [
    "unique_gene = nuc_repr_csv_gene_name[\"Gene entry name\"].unique()\n",
    "gene_train_val_index, gene_test_index = train_test_split(list(range(len(unique_gene))), test_size=150, random_state=9001)\n",
    "gene_train_index, gene_val_index = train_test_split(gene_train_val_index, test_size=150, random_state=9001)"
   ]
  },
  {
   "cell_type": "code",
   "execution_count": 48,
   "metadata": {},
   "outputs": [
    {
     "name": "stdout",
     "output_type": "stream",
     "text": [
      "1641\n",
      "150\n",
      "150\n"
     ]
    }
   ],
   "source": [
    "print(len(gene_train_index))\n",
    "print(len(gene_val_index))\n",
    "print(len(gene_test_index))"
   ]
  },
  {
   "cell_type": "code",
   "execution_count": 58,
   "metadata": {},
   "outputs": [],
   "source": [
    "train_gene = unique_gene[gene_train_index]\n",
    "val_gene = unique_gene[gene_val_index]\n",
    "test_gene = unique_gene[gene_test_index]"
   ]
  },
  {
   "cell_type": "code",
   "execution_count": 59,
   "metadata": {
    "collapsed": false,
    "jupyter": {
     "outputs_hidden": false
    },
    "pycharm": {
     "name": "#%%\n"
    }
   },
   "outputs": [],
   "source": [
    "bool_train = nuc_repr_csv_gene_name[\"Gene entry name\"].isin(train_gene)\n",
    "bool_val = nuc_repr_csv_gene_name[\"Gene entry name\"].isin(val_gene)\n",
    "bool_test = nuc_repr_csv_gene_name[\"Gene entry name\"].isin(test_gene)"
   ]
  },
  {
   "cell_type": "code",
   "execution_count": 60,
   "metadata": {
    "collapsed": false,
    "jupyter": {
     "outputs_hidden": false
    },
    "pycharm": {
     "name": "#%%\n"
    }
   },
   "outputs": [],
   "source": [
    "train_index = [i for i, t in enumerate(bool_train) if t]\n",
    "val_index = [i for i, t in enumerate(bool_val) if t]\n",
    "test_index = [i for i, t in enumerate(bool_test) if t]"
   ]
  },
  {
   "cell_type": "code",
   "execution_count": 61,
   "metadata": {},
   "outputs": [
    {
     "name": "stdout",
     "output_type": "stream",
     "text": [
      "2792\n",
      "262\n",
      "239\n"
     ]
    }
   ],
   "source": [
    "print(len(train_index))\n",
    "print(len(val_index))\n",
    "print(len(test_index))"
   ]
  },
  {
   "cell_type": "code",
   "execution_count": 62,
   "metadata": {
    "collapsed": false,
    "jupyter": {
     "outputs_hidden": false
    },
    "pycharm": {
     "name": "#%%\n"
    }
   },
   "outputs": [],
   "source": [
    "y_df = nuc_repr_csv_gene_name.iloc[:,3]\n",
    "x_df = nuc_repr_csv_gene_name.iloc[:,4:]"
   ]
  },
  {
   "cell_type": "code",
   "execution_count": 63,
   "metadata": {
    "collapsed": false,
    "jupyter": {
     "outputs_hidden": false
    },
    "pycharm": {
     "name": "#%%\n"
    }
   },
   "outputs": [
    {
     "data": {
      "text/html": [
       "<div>\n",
       "<style scoped>\n",
       "    .dataframe tbody tr th:only-of-type {\n",
       "        vertical-align: middle;\n",
       "    }\n",
       "\n",
       "    .dataframe tbody tr th {\n",
       "        vertical-align: top;\n",
       "    }\n",
       "\n",
       "    .dataframe thead th {\n",
       "        text-align: right;\n",
       "    }\n",
       "</style>\n",
       "<table border=\"1\" class=\"dataframe\">\n",
       "  <thead>\n",
       "    <tr style=\"text-align: right;\">\n",
       "      <th></th>\n",
       "      <th>avg_UniRep_0</th>\n",
       "      <th>avg_UniRep_1</th>\n",
       "      <th>avg_UniRep_2</th>\n",
       "      <th>avg_UniRep_3</th>\n",
       "      <th>avg_UniRep_4</th>\n",
       "      <th>avg_UniRep_5</th>\n",
       "      <th>avg_UniRep_6</th>\n",
       "      <th>avg_UniRep_7</th>\n",
       "      <th>avg_UniRep_8</th>\n",
       "      <th>avg_UniRep_9</th>\n",
       "      <th>...</th>\n",
       "      <th>avg_UniRep_1890</th>\n",
       "      <th>avg_UniRep_1891</th>\n",
       "      <th>avg_UniRep_1892</th>\n",
       "      <th>avg_UniRep_1893</th>\n",
       "      <th>avg_UniRep_1894</th>\n",
       "      <th>avg_UniRep_1895</th>\n",
       "      <th>avg_UniRep_1896</th>\n",
       "      <th>avg_UniRep_1897</th>\n",
       "      <th>avg_UniRep_1898</th>\n",
       "      <th>avg_UniRep_1899</th>\n",
       "    </tr>\n",
       "  </thead>\n",
       "  <tbody>\n",
       "    <tr>\n",
       "      <th>0</th>\n",
       "      <td>0.012074</td>\n",
       "      <td>-0.073621</td>\n",
       "      <td>0.020062</td>\n",
       "      <td>0.001610</td>\n",
       "      <td>-0.128022</td>\n",
       "      <td>-0.001691</td>\n",
       "      <td>-0.138992</td>\n",
       "      <td>-0.005822</td>\n",
       "      <td>-0.011177</td>\n",
       "      <td>0.080407</td>\n",
       "      <td>...</td>\n",
       "      <td>0.078327</td>\n",
       "      <td>0.006506</td>\n",
       "      <td>-0.149890</td>\n",
       "      <td>0.033899</td>\n",
       "      <td>-0.047009</td>\n",
       "      <td>-0.037723</td>\n",
       "      <td>0.024262</td>\n",
       "      <td>-0.021594</td>\n",
       "      <td>0.083059</td>\n",
       "      <td>0.064712</td>\n",
       "    </tr>\n",
       "    <tr>\n",
       "      <th>1</th>\n",
       "      <td>0.052558</td>\n",
       "      <td>0.011248</td>\n",
       "      <td>0.093146</td>\n",
       "      <td>0.003814</td>\n",
       "      <td>-0.304034</td>\n",
       "      <td>0.035568</td>\n",
       "      <td>-0.114387</td>\n",
       "      <td>-0.086461</td>\n",
       "      <td>-0.011554</td>\n",
       "      <td>0.016203</td>\n",
       "      <td>...</td>\n",
       "      <td>0.042389</td>\n",
       "      <td>-0.022166</td>\n",
       "      <td>-0.011117</td>\n",
       "      <td>0.008122</td>\n",
       "      <td>-0.018223</td>\n",
       "      <td>0.024674</td>\n",
       "      <td>0.016178</td>\n",
       "      <td>0.231606</td>\n",
       "      <td>-0.010834</td>\n",
       "      <td>-0.020774</td>\n",
       "    </tr>\n",
       "    <tr>\n",
       "      <th>2</th>\n",
       "      <td>0.040102</td>\n",
       "      <td>0.004494</td>\n",
       "      <td>0.111519</td>\n",
       "      <td>0.004994</td>\n",
       "      <td>-0.198010</td>\n",
       "      <td>0.039939</td>\n",
       "      <td>-0.144109</td>\n",
       "      <td>-0.103255</td>\n",
       "      <td>-0.009086</td>\n",
       "      <td>0.014510</td>\n",
       "      <td>...</td>\n",
       "      <td>0.067723</td>\n",
       "      <td>-0.042996</td>\n",
       "      <td>-0.015202</td>\n",
       "      <td>0.042177</td>\n",
       "      <td>0.058805</td>\n",
       "      <td>0.011356</td>\n",
       "      <td>-0.071480</td>\n",
       "      <td>0.184803</td>\n",
       "      <td>-0.015600</td>\n",
       "      <td>-0.033623</td>\n",
       "    </tr>\n",
       "    <tr>\n",
       "      <th>3</th>\n",
       "      <td>0.008489</td>\n",
       "      <td>-0.069276</td>\n",
       "      <td>0.019714</td>\n",
       "      <td>0.000366</td>\n",
       "      <td>-0.102570</td>\n",
       "      <td>0.030890</td>\n",
       "      <td>-0.254698</td>\n",
       "      <td>-0.011026</td>\n",
       "      <td>-0.011506</td>\n",
       "      <td>0.026116</td>\n",
       "      <td>...</td>\n",
       "      <td>0.053821</td>\n",
       "      <td>0.108363</td>\n",
       "      <td>-0.128192</td>\n",
       "      <td>0.032764</td>\n",
       "      <td>-0.066890</td>\n",
       "      <td>-0.010566</td>\n",
       "      <td>0.047766</td>\n",
       "      <td>0.005707</td>\n",
       "      <td>0.076226</td>\n",
       "      <td>-0.009172</td>\n",
       "    </tr>\n",
       "    <tr>\n",
       "      <th>4</th>\n",
       "      <td>0.015876</td>\n",
       "      <td>-0.041567</td>\n",
       "      <td>0.044769</td>\n",
       "      <td>-0.008578</td>\n",
       "      <td>-0.283425</td>\n",
       "      <td>0.026419</td>\n",
       "      <td>-0.214549</td>\n",
       "      <td>-0.080023</td>\n",
       "      <td>-0.011550</td>\n",
       "      <td>0.080747</td>\n",
       "      <td>...</td>\n",
       "      <td>0.025633</td>\n",
       "      <td>0.109751</td>\n",
       "      <td>-0.079750</td>\n",
       "      <td>0.038327</td>\n",
       "      <td>-0.032536</td>\n",
       "      <td>0.010741</td>\n",
       "      <td>-0.009729</td>\n",
       "      <td>0.094906</td>\n",
       "      <td>0.056365</td>\n",
       "      <td>0.016471</td>\n",
       "    </tr>\n",
       "    <tr>\n",
       "      <th>...</th>\n",
       "      <td>...</td>\n",
       "      <td>...</td>\n",
       "      <td>...</td>\n",
       "      <td>...</td>\n",
       "      <td>...</td>\n",
       "      <td>...</td>\n",
       "      <td>...</td>\n",
       "      <td>...</td>\n",
       "      <td>...</td>\n",
       "      <td>...</td>\n",
       "      <td>...</td>\n",
       "      <td>...</td>\n",
       "      <td>...</td>\n",
       "      <td>...</td>\n",
       "      <td>...</td>\n",
       "      <td>...</td>\n",
       "      <td>...</td>\n",
       "      <td>...</td>\n",
       "      <td>...</td>\n",
       "      <td>...</td>\n",
       "      <td>...</td>\n",
       "    </tr>\n",
       "    <tr>\n",
       "      <th>3288</th>\n",
       "      <td>0.012495</td>\n",
       "      <td>-0.053070</td>\n",
       "      <td>0.009681</td>\n",
       "      <td>0.002972</td>\n",
       "      <td>-0.219202</td>\n",
       "      <td>0.001150</td>\n",
       "      <td>-0.303482</td>\n",
       "      <td>-0.000722</td>\n",
       "      <td>-0.012846</td>\n",
       "      <td>0.113826</td>\n",
       "      <td>...</td>\n",
       "      <td>0.047507</td>\n",
       "      <td>0.027719</td>\n",
       "      <td>-0.055795</td>\n",
       "      <td>0.030004</td>\n",
       "      <td>-0.049132</td>\n",
       "      <td>-0.037203</td>\n",
       "      <td>0.027419</td>\n",
       "      <td>0.008728</td>\n",
       "      <td>0.166702</td>\n",
       "      <td>0.188963</td>\n",
       "    </tr>\n",
       "    <tr>\n",
       "      <th>3289</th>\n",
       "      <td>0.012972</td>\n",
       "      <td>-0.091552</td>\n",
       "      <td>0.006169</td>\n",
       "      <td>0.005161</td>\n",
       "      <td>-0.150370</td>\n",
       "      <td>0.003814</td>\n",
       "      <td>-0.396670</td>\n",
       "      <td>-0.002794</td>\n",
       "      <td>-0.012925</td>\n",
       "      <td>0.160756</td>\n",
       "      <td>...</td>\n",
       "      <td>0.051011</td>\n",
       "      <td>0.034758</td>\n",
       "      <td>-0.090021</td>\n",
       "      <td>0.032878</td>\n",
       "      <td>-0.041056</td>\n",
       "      <td>-0.027500</td>\n",
       "      <td>0.018148</td>\n",
       "      <td>-0.044200</td>\n",
       "      <td>0.129759</td>\n",
       "      <td>0.148797</td>\n",
       "    </tr>\n",
       "    <tr>\n",
       "      <th>3290</th>\n",
       "      <td>0.013150</td>\n",
       "      <td>-0.100619</td>\n",
       "      <td>0.002667</td>\n",
       "      <td>0.007066</td>\n",
       "      <td>-0.102209</td>\n",
       "      <td>0.012811</td>\n",
       "      <td>-0.424334</td>\n",
       "      <td>-0.003018</td>\n",
       "      <td>-0.012640</td>\n",
       "      <td>0.162807</td>\n",
       "      <td>...</td>\n",
       "      <td>0.046191</td>\n",
       "      <td>-0.030839</td>\n",
       "      <td>-0.127151</td>\n",
       "      <td>0.035726</td>\n",
       "      <td>-0.032085</td>\n",
       "      <td>-0.027729</td>\n",
       "      <td>0.017665</td>\n",
       "      <td>-0.035823</td>\n",
       "      <td>0.163938</td>\n",
       "      <td>0.045946</td>\n",
       "    </tr>\n",
       "    <tr>\n",
       "      <th>3291</th>\n",
       "      <td>0.014561</td>\n",
       "      <td>-0.101719</td>\n",
       "      <td>0.003215</td>\n",
       "      <td>0.006948</td>\n",
       "      <td>-0.161066</td>\n",
       "      <td>0.013095</td>\n",
       "      <td>-0.533865</td>\n",
       "      <td>-0.003989</td>\n",
       "      <td>-0.011151</td>\n",
       "      <td>0.222140</td>\n",
       "      <td>...</td>\n",
       "      <td>0.048263</td>\n",
       "      <td>0.016245</td>\n",
       "      <td>-0.080691</td>\n",
       "      <td>0.031299</td>\n",
       "      <td>-0.047760</td>\n",
       "      <td>-0.044100</td>\n",
       "      <td>0.016116</td>\n",
       "      <td>-0.045584</td>\n",
       "      <td>0.178356</td>\n",
       "      <td>0.073703</td>\n",
       "    </tr>\n",
       "    <tr>\n",
       "      <th>3292</th>\n",
       "      <td>0.013127</td>\n",
       "      <td>-0.109626</td>\n",
       "      <td>0.003253</td>\n",
       "      <td>0.006866</td>\n",
       "      <td>-0.151920</td>\n",
       "      <td>0.012475</td>\n",
       "      <td>-0.584668</td>\n",
       "      <td>-0.004739</td>\n",
       "      <td>-0.011275</td>\n",
       "      <td>0.285527</td>\n",
       "      <td>...</td>\n",
       "      <td>0.042408</td>\n",
       "      <td>0.040142</td>\n",
       "      <td>-0.081219</td>\n",
       "      <td>0.029182</td>\n",
       "      <td>-0.049697</td>\n",
       "      <td>-0.034374</td>\n",
       "      <td>0.004789</td>\n",
       "      <td>-0.019035</td>\n",
       "      <td>0.227032</td>\n",
       "      <td>0.074296</td>\n",
       "    </tr>\n",
       "  </tbody>\n",
       "</table>\n",
       "<p>3293 rows × 1900 columns</p>\n",
       "</div>"
      ],
      "text/plain": [
       "      avg_UniRep_0  avg_UniRep_1  avg_UniRep_2  avg_UniRep_3  avg_UniRep_4  \\\n",
       "0         0.012074     -0.073621      0.020062      0.001610     -0.128022   \n",
       "1         0.052558      0.011248      0.093146      0.003814     -0.304034   \n",
       "2         0.040102      0.004494      0.111519      0.004994     -0.198010   \n",
       "3         0.008489     -0.069276      0.019714      0.000366     -0.102570   \n",
       "4         0.015876     -0.041567      0.044769     -0.008578     -0.283425   \n",
       "...            ...           ...           ...           ...           ...   \n",
       "3288      0.012495     -0.053070      0.009681      0.002972     -0.219202   \n",
       "3289      0.012972     -0.091552      0.006169      0.005161     -0.150370   \n",
       "3290      0.013150     -0.100619      0.002667      0.007066     -0.102209   \n",
       "3291      0.014561     -0.101719      0.003215      0.006948     -0.161066   \n",
       "3292      0.013127     -0.109626      0.003253      0.006866     -0.151920   \n",
       "\n",
       "      avg_UniRep_5  avg_UniRep_6  avg_UniRep_7  avg_UniRep_8  avg_UniRep_9  \\\n",
       "0        -0.001691     -0.138992     -0.005822     -0.011177      0.080407   \n",
       "1         0.035568     -0.114387     -0.086461     -0.011554      0.016203   \n",
       "2         0.039939     -0.144109     -0.103255     -0.009086      0.014510   \n",
       "3         0.030890     -0.254698     -0.011026     -0.011506      0.026116   \n",
       "4         0.026419     -0.214549     -0.080023     -0.011550      0.080747   \n",
       "...            ...           ...           ...           ...           ...   \n",
       "3288      0.001150     -0.303482     -0.000722     -0.012846      0.113826   \n",
       "3289      0.003814     -0.396670     -0.002794     -0.012925      0.160756   \n",
       "3290      0.012811     -0.424334     -0.003018     -0.012640      0.162807   \n",
       "3291      0.013095     -0.533865     -0.003989     -0.011151      0.222140   \n",
       "3292      0.012475     -0.584668     -0.004739     -0.011275      0.285527   \n",
       "\n",
       "      ...  avg_UniRep_1890  avg_UniRep_1891  avg_UniRep_1892  avg_UniRep_1893  \\\n",
       "0     ...         0.078327         0.006506        -0.149890         0.033899   \n",
       "1     ...         0.042389        -0.022166        -0.011117         0.008122   \n",
       "2     ...         0.067723        -0.042996        -0.015202         0.042177   \n",
       "3     ...         0.053821         0.108363        -0.128192         0.032764   \n",
       "4     ...         0.025633         0.109751        -0.079750         0.038327   \n",
       "...   ...              ...              ...              ...              ...   \n",
       "3288  ...         0.047507         0.027719        -0.055795         0.030004   \n",
       "3289  ...         0.051011         0.034758        -0.090021         0.032878   \n",
       "3290  ...         0.046191        -0.030839        -0.127151         0.035726   \n",
       "3291  ...         0.048263         0.016245        -0.080691         0.031299   \n",
       "3292  ...         0.042408         0.040142        -0.081219         0.029182   \n",
       "\n",
       "      avg_UniRep_1894  avg_UniRep_1895  avg_UniRep_1896  avg_UniRep_1897  \\\n",
       "0           -0.047009        -0.037723         0.024262        -0.021594   \n",
       "1           -0.018223         0.024674         0.016178         0.231606   \n",
       "2            0.058805         0.011356        -0.071480         0.184803   \n",
       "3           -0.066890        -0.010566         0.047766         0.005707   \n",
       "4           -0.032536         0.010741        -0.009729         0.094906   \n",
       "...               ...              ...              ...              ...   \n",
       "3288        -0.049132        -0.037203         0.027419         0.008728   \n",
       "3289        -0.041056        -0.027500         0.018148        -0.044200   \n",
       "3290        -0.032085        -0.027729         0.017665        -0.035823   \n",
       "3291        -0.047760        -0.044100         0.016116        -0.045584   \n",
       "3292        -0.049697        -0.034374         0.004789        -0.019035   \n",
       "\n",
       "      avg_UniRep_1898  avg_UniRep_1899  \n",
       "0            0.083059         0.064712  \n",
       "1           -0.010834        -0.020774  \n",
       "2           -0.015600        -0.033623  \n",
       "3            0.076226        -0.009172  \n",
       "4            0.056365         0.016471  \n",
       "...               ...              ...  \n",
       "3288         0.166702         0.188963  \n",
       "3289         0.129759         0.148797  \n",
       "3290         0.163938         0.045946  \n",
       "3291         0.178356         0.073703  \n",
       "3292         0.227032         0.074296  \n",
       "\n",
       "[3293 rows x 1900 columns]"
      ]
     },
     "execution_count": 63,
     "metadata": {},
     "output_type": "execute_result"
    }
   ],
   "source": [
    "x_df"
   ]
  },
  {
   "cell_type": "code",
   "execution_count": 64,
   "metadata": {
    "collapsed": false,
    "jupyter": {
     "outputs_hidden": false
    },
    "pycharm": {
     "name": "#%%\n"
    }
   },
   "outputs": [
    {
     "name": "stdout",
     "output_type": "stream",
     "text": [
      "2792\n",
      "262\n",
      "239\n"
     ]
    }
   ],
   "source": [
    "print(len(train_index))\n",
    "print(len(val_index))\n",
    "print(len(test_index))"
   ]
  },
  {
   "cell_type": "code",
   "execution_count": null,
   "metadata": {},
   "outputs": [],
   "source": [
    "bool_train = nuc_csv_gene_name[\"Gene entry name\"].isin(train_gene)\n",
    "bool_val = nuc_csv_gene_name[\"Gene entry name\"].isin(val_gene)\n",
    "bool_test = nuc_csv_gene_name[\"Gene entry name\"].isin(test_gene)"
   ]
  },
  {
   "cell_type": "code",
   "execution_count": null,
   "metadata": {},
   "outputs": [],
   "source": []
  },
  {
   "cell_type": "code",
   "execution_count": null,
   "metadata": {},
   "outputs": [],
   "source": [
    "train_gene = unique_gene[gene_train_index]\n",
    "val_gene = unique_gene[gene_val_index]\n",
    "test_gene = unique_gene[gene_test_index]"
   ]
  },
  {
   "cell_type": "code",
   "execution_count": 65,
   "metadata": {
    "collapsed": false,
    "jupyter": {
     "outputs_hidden": false
    },
    "pycharm": {
     "name": "#%%\n"
    }
   },
   "outputs": [],
   "source": [
    "import json\n",
    "index_dict = {\"train_index\":train_index,\n",
    "              \"val_index\":val_index,\n",
    "              \"test_index\":test_index}\n",
    "with open(\"index_BareNucRepr.json\", \"w\") as f:\n",
    "    json.dump(index_dict, f)"
   ]
  },
  {
   "cell_type": "code",
   "execution_count": 37,
   "metadata": {
    "collapsed": false,
    "jupyter": {
     "outputs_hidden": false
    },
    "pycharm": {
     "name": "#%%\n"
    }
   },
   "outputs": [],
   "source": [
    "tile_csv = pd.read_csv(\"UniRep1900_BareTilingRepressors.csv\")"
   ]
  },
  {
   "cell_type": "code",
   "execution_count": 38,
   "metadata": {
    "collapsed": false,
    "jupyter": {
     "outputs_hidden": false
    },
    "pycharm": {
     "name": "#%%\n"
    }
   },
   "outputs": [
    {
     "data": {
      "text/html": [
       "<div>\n",
       "<style scoped>\n",
       "    .dataframe tbody tr th:only-of-type {\n",
       "        vertical-align: middle;\n",
       "    }\n",
       "\n",
       "    .dataframe tbody tr th {\n",
       "        vertical-align: top;\n",
       "    }\n",
       "\n",
       "    .dataframe thead th {\n",
       "        text-align: right;\n",
       "    }\n",
       "</style>\n",
       "<table border=\"1\" class=\"dataframe\">\n",
       "  <thead>\n",
       "    <tr style=\"text-align: right;\">\n",
       "      <th></th>\n",
       "      <th>Unnamed: 0</th>\n",
       "      <th>Sequence</th>\n",
       "      <th>Avg D5</th>\n",
       "      <th>avg_UniRep_0</th>\n",
       "      <th>avg_UniRep_1</th>\n",
       "      <th>avg_UniRep_2</th>\n",
       "      <th>avg_UniRep_3</th>\n",
       "      <th>avg_UniRep_4</th>\n",
       "      <th>avg_UniRep_5</th>\n",
       "      <th>avg_UniRep_6</th>\n",
       "      <th>...</th>\n",
       "      <th>avg_UniRep_1890</th>\n",
       "      <th>avg_UniRep_1891</th>\n",
       "      <th>avg_UniRep_1892</th>\n",
       "      <th>avg_UniRep_1893</th>\n",
       "      <th>avg_UniRep_1894</th>\n",
       "      <th>avg_UniRep_1895</th>\n",
       "      <th>avg_UniRep_1896</th>\n",
       "      <th>avg_UniRep_1897</th>\n",
       "      <th>avg_UniRep_1898</th>\n",
       "      <th>avg_UniRep_1899</th>\n",
       "    </tr>\n",
       "  </thead>\n",
       "  <tbody>\n",
       "    <tr>\n",
       "      <th>0</th>\n",
       "      <td>0</td>\n",
       "      <td>ATGACCACCAGCGGCGCCCTGTTTCCTAGCCTGGTGCCTGGCTCTA...</td>\n",
       "      <td>0.3247</td>\n",
       "      <td>0.016835</td>\n",
       "      <td>-0.038964</td>\n",
       "      <td>-0.008557</td>\n",
       "      <td>-0.001926</td>\n",
       "      <td>-0.228798</td>\n",
       "      <td>0.148902</td>\n",
       "      <td>-0.096909</td>\n",
       "      <td>...</td>\n",
       "      <td>-0.003004</td>\n",
       "      <td>0.077880</td>\n",
       "      <td>-0.021571</td>\n",
       "      <td>-0.005050</td>\n",
       "      <td>0.023606</td>\n",
       "      <td>0.005636</td>\n",
       "      <td>-0.002036</td>\n",
       "      <td>0.005966</td>\n",
       "      <td>0.943699</td>\n",
       "      <td>0.065126</td>\n",
       "    </tr>\n",
       "    <tr>\n",
       "      <th>1</th>\n",
       "      <td>1</td>\n",
       "      <td>CTGGTGCCCGGCAGCAGAGGCGCCAGCAACAAGTACCTGGTGGAGT...</td>\n",
       "      <td>0.4643</td>\n",
       "      <td>0.021633</td>\n",
       "      <td>-0.044443</td>\n",
       "      <td>-0.008634</td>\n",
       "      <td>-0.004020</td>\n",
       "      <td>-0.176238</td>\n",
       "      <td>0.205638</td>\n",
       "      <td>-0.123192</td>\n",
       "      <td>...</td>\n",
       "      <td>-0.002775</td>\n",
       "      <td>0.135469</td>\n",
       "      <td>-0.015811</td>\n",
       "      <td>-0.004036</td>\n",
       "      <td>0.013755</td>\n",
       "      <td>0.008440</td>\n",
       "      <td>0.010434</td>\n",
       "      <td>0.012073</td>\n",
       "      <td>0.946932</td>\n",
       "      <td>0.080044</td>\n",
       "    </tr>\n",
       "    <tr>\n",
       "      <th>2</th>\n",
       "      <td>2</td>\n",
       "      <td>AAGTACCTGGTGGAGTTCAGAGCCGGCAAGATGAGCCTGAAGGGCA...</td>\n",
       "      <td>0.5092</td>\n",
       "      <td>0.016556</td>\n",
       "      <td>-0.046208</td>\n",
       "      <td>-0.006813</td>\n",
       "      <td>-0.004260</td>\n",
       "      <td>-0.246929</td>\n",
       "      <td>0.174030</td>\n",
       "      <td>-0.128634</td>\n",
       "      <td>...</td>\n",
       "      <td>0.002105</td>\n",
       "      <td>0.077608</td>\n",
       "      <td>-0.019916</td>\n",
       "      <td>-0.001641</td>\n",
       "      <td>0.030328</td>\n",
       "      <td>0.009114</td>\n",
       "      <td>0.011553</td>\n",
       "      <td>0.009611</td>\n",
       "      <td>0.916393</td>\n",
       "      <td>0.092937</td>\n",
       "    </tr>\n",
       "    <tr>\n",
       "      <th>3</th>\n",
       "      <td>3</td>\n",
       "      <td>ATGAGCCTGAAGGGCACCACCGTGACCCCCGACAAGAGAAAGGGCC...</td>\n",
       "      <td>0.1600</td>\n",
       "      <td>0.020480</td>\n",
       "      <td>-0.033032</td>\n",
       "      <td>-0.009204</td>\n",
       "      <td>-0.001737</td>\n",
       "      <td>-0.227486</td>\n",
       "      <td>0.156453</td>\n",
       "      <td>-0.141830</td>\n",
       "      <td>...</td>\n",
       "      <td>-0.001859</td>\n",
       "      <td>0.052432</td>\n",
       "      <td>-0.025495</td>\n",
       "      <td>-0.000035</td>\n",
       "      <td>0.015446</td>\n",
       "      <td>0.008525</td>\n",
       "      <td>-0.002645</td>\n",
       "      <td>0.008901</td>\n",
       "      <td>0.929580</td>\n",
       "      <td>0.119956</td>\n",
       "    </tr>\n",
       "    <tr>\n",
       "      <th>4</th>\n",
       "      <td>4</td>\n",
       "      <td>GACAAGAGAAAGGGCCTGGTGTACATCCAGCAGACCGACGACAGCC...</td>\n",
       "      <td>0.4589</td>\n",
       "      <td>0.027585</td>\n",
       "      <td>-0.041225</td>\n",
       "      <td>-0.010348</td>\n",
       "      <td>-0.003583</td>\n",
       "      <td>-0.235075</td>\n",
       "      <td>0.151121</td>\n",
       "      <td>-0.153897</td>\n",
       "      <td>...</td>\n",
       "      <td>-0.001192</td>\n",
       "      <td>0.047491</td>\n",
       "      <td>-0.024931</td>\n",
       "      <td>-0.000977</td>\n",
       "      <td>0.030377</td>\n",
       "      <td>0.007448</td>\n",
       "      <td>-0.001093</td>\n",
       "      <td>0.003117</td>\n",
       "      <td>0.918291</td>\n",
       "      <td>0.120176</td>\n",
       "    </tr>\n",
       "  </tbody>\n",
       "</table>\n",
       "<p>5 rows × 1903 columns</p>\n",
       "</div>"
      ],
      "text/plain": [
       "   Unnamed: 0                                           Sequence  Avg D5  \\\n",
       "0           0  ATGACCACCAGCGGCGCCCTGTTTCCTAGCCTGGTGCCTGGCTCTA...  0.3247   \n",
       "1           1  CTGGTGCCCGGCAGCAGAGGCGCCAGCAACAAGTACCTGGTGGAGT...  0.4643   \n",
       "2           2  AAGTACCTGGTGGAGTTCAGAGCCGGCAAGATGAGCCTGAAGGGCA...  0.5092   \n",
       "3           3  ATGAGCCTGAAGGGCACCACCGTGACCCCCGACAAGAGAAAGGGCC...  0.1600   \n",
       "4           4  GACAAGAGAAAGGGCCTGGTGTACATCCAGCAGACCGACGACAGCC...  0.4589   \n",
       "\n",
       "   avg_UniRep_0  avg_UniRep_1  avg_UniRep_2  avg_UniRep_3  avg_UniRep_4  \\\n",
       "0      0.016835     -0.038964     -0.008557     -0.001926     -0.228798   \n",
       "1      0.021633     -0.044443     -0.008634     -0.004020     -0.176238   \n",
       "2      0.016556     -0.046208     -0.006813     -0.004260     -0.246929   \n",
       "3      0.020480     -0.033032     -0.009204     -0.001737     -0.227486   \n",
       "4      0.027585     -0.041225     -0.010348     -0.003583     -0.235075   \n",
       "\n",
       "   avg_UniRep_5  avg_UniRep_6  ...  avg_UniRep_1890  avg_UniRep_1891  \\\n",
       "0      0.148902     -0.096909  ...        -0.003004         0.077880   \n",
       "1      0.205638     -0.123192  ...        -0.002775         0.135469   \n",
       "2      0.174030     -0.128634  ...         0.002105         0.077608   \n",
       "3      0.156453     -0.141830  ...        -0.001859         0.052432   \n",
       "4      0.151121     -0.153897  ...        -0.001192         0.047491   \n",
       "\n",
       "   avg_UniRep_1892  avg_UniRep_1893  avg_UniRep_1894  avg_UniRep_1895  \\\n",
       "0        -0.021571        -0.005050         0.023606         0.005636   \n",
       "1        -0.015811        -0.004036         0.013755         0.008440   \n",
       "2        -0.019916        -0.001641         0.030328         0.009114   \n",
       "3        -0.025495        -0.000035         0.015446         0.008525   \n",
       "4        -0.024931        -0.000977         0.030377         0.007448   \n",
       "\n",
       "   avg_UniRep_1896  avg_UniRep_1897  avg_UniRep_1898  avg_UniRep_1899  \n",
       "0        -0.002036         0.005966         0.943699         0.065126  \n",
       "1         0.010434         0.012073         0.946932         0.080044  \n",
       "2         0.011553         0.009611         0.916393         0.092937  \n",
       "3        -0.002645         0.008901         0.929580         0.119956  \n",
       "4        -0.001093         0.003117         0.918291         0.120176  \n",
       "\n",
       "[5 rows x 1903 columns]"
      ]
     },
     "execution_count": 38,
     "metadata": {},
     "output_type": "execute_result"
    }
   ],
   "source": [
    "tile_csv.head()"
   ]
  },
  {
   "cell_type": "code",
   "execution_count": 39,
   "metadata": {
    "collapsed": false,
    "jupyter": {
     "outputs_hidden": false
    },
    "pycharm": {
     "name": "#%%\n"
    }
   },
   "outputs": [
    {
     "data": {
      "text/html": [
       "<div>\n",
       "<style scoped>\n",
       "    .dataframe tbody tr th:only-of-type {\n",
       "        vertical-align: middle;\n",
       "    }\n",
       "\n",
       "    .dataframe tbody tr th {\n",
       "        vertical-align: top;\n",
       "    }\n",
       "\n",
       "    .dataframe thead th {\n",
       "        text-align: right;\n",
       "    }\n",
       "</style>\n",
       "<table border=\"1\" class=\"dataframe\">\n",
       "  <thead>\n",
       "    <tr style=\"text-align: right;\">\n",
       "      <th></th>\n",
       "      <th>Gene ID</th>\n",
       "      <th>Tile number</th>\n",
       "      <th>start</th>\n",
       "      <th>end</th>\n",
       "      <th>UniProt ID</th>\n",
       "      <th>Gene with hit</th>\n",
       "      <th>Hit</th>\n",
       "      <th>Sequence</th>\n",
       "      <th>Category</th>\n",
       "      <th>label</th>\n",
       "    </tr>\n",
       "  </thead>\n",
       "  <tbody>\n",
       "    <tr>\n",
       "      <th>0</th>\n",
       "      <td>ADRM1</td>\n",
       "      <td>0</td>\n",
       "      <td>0</td>\n",
       "      <td>80</td>\n",
       "      <td>Q16186</td>\n",
       "      <td>False</td>\n",
       "      <td>False</td>\n",
       "      <td>ATGACCACCAGCGGCGCCCTGTTTCCTAGCCTGGTGCCTGGCTCTA...</td>\n",
       "      <td>Silencer tiles</td>\n",
       "      <td>Silencer_tiles;ENSG00000130706;0</td>\n",
       "    </tr>\n",
       "    <tr>\n",
       "      <th>1</th>\n",
       "      <td>ADRM1</td>\n",
       "      <td>1</td>\n",
       "      <td>10</td>\n",
       "      <td>90</td>\n",
       "      <td>Q16186</td>\n",
       "      <td>False</td>\n",
       "      <td>False</td>\n",
       "      <td>CTGGTGCCCGGCAGCAGAGGCGCCAGCAACAAGTACCTGGTGGAGT...</td>\n",
       "      <td>Silencer tiles</td>\n",
       "      <td>Silencer_tiles;ENSG00000130706;1</td>\n",
       "    </tr>\n",
       "    <tr>\n",
       "      <th>2</th>\n",
       "      <td>ADRM1</td>\n",
       "      <td>2</td>\n",
       "      <td>20</td>\n",
       "      <td>100</td>\n",
       "      <td>Q16186</td>\n",
       "      <td>False</td>\n",
       "      <td>False</td>\n",
       "      <td>AAGTACCTGGTGGAGTTCAGAGCCGGCAAGATGAGCCTGAAGGGCA...</td>\n",
       "      <td>Silencer tiles</td>\n",
       "      <td>Silencer_tiles;ENSG00000130706;2</td>\n",
       "    </tr>\n",
       "    <tr>\n",
       "      <th>3</th>\n",
       "      <td>ADRM1</td>\n",
       "      <td>3</td>\n",
       "      <td>30</td>\n",
       "      <td>110</td>\n",
       "      <td>Q16186</td>\n",
       "      <td>False</td>\n",
       "      <td>False</td>\n",
       "      <td>ATGAGCCTGAAGGGCACCACCGTGACCCCCGACAAGAGAAAGGGCC...</td>\n",
       "      <td>Silencer tiles</td>\n",
       "      <td>Silencer_tiles;ENSG00000130706;3</td>\n",
       "    </tr>\n",
       "    <tr>\n",
       "      <th>4</th>\n",
       "      <td>ADRM1</td>\n",
       "      <td>4</td>\n",
       "      <td>40</td>\n",
       "      <td>120</td>\n",
       "      <td>Q16186</td>\n",
       "      <td>False</td>\n",
       "      <td>False</td>\n",
       "      <td>GACAAGAGAAAGGGCCTGGTGTACATCCAGCAGACCGACGACAGCC...</td>\n",
       "      <td>Silencer tiles</td>\n",
       "      <td>Silencer_tiles;ENSG00000130706;4</td>\n",
       "    </tr>\n",
       "  </tbody>\n",
       "</table>\n",
       "</div>"
      ],
      "text/plain": [
       "  Gene ID  Tile number  start  end UniProt ID  Gene with hit    Hit  \\\n",
       "0   ADRM1            0      0   80     Q16186          False  False   \n",
       "1   ADRM1            1     10   90     Q16186          False  False   \n",
       "2   ADRM1            2     20  100     Q16186          False  False   \n",
       "3   ADRM1            3     30  110     Q16186          False  False   \n",
       "4   ADRM1            4     40  120     Q16186          False  False   \n",
       "\n",
       "                                            Sequence        Category  \\\n",
       "0  ATGACCACCAGCGGCGCCCTGTTTCCTAGCCTGGTGCCTGGCTCTA...  Silencer tiles   \n",
       "1  CTGGTGCCCGGCAGCAGAGGCGCCAGCAACAAGTACCTGGTGGAGT...  Silencer tiles   \n",
       "2  AAGTACCTGGTGGAGTTCAGAGCCGGCAAGATGAGCCTGAAGGGCA...  Silencer tiles   \n",
       "3  ATGAGCCTGAAGGGCACCACCGTGACCCCCGACAAGAGAAAGGGCC...  Silencer tiles   \n",
       "4  GACAAGAGAAAGGGCCTGGTGTACATCCAGCAGACCGACGACAGCC...  Silencer tiles   \n",
       "\n",
       "                              label  \n",
       "0  Silencer_tiles;ENSG00000130706;0  \n",
       "1  Silencer_tiles;ENSG00000130706;1  \n",
       "2  Silencer_tiles;ENSG00000130706;2  \n",
       "3  Silencer_tiles;ENSG00000130706;3  \n",
       "4  Silencer_tiles;ENSG00000130706;4  "
      ]
     },
     "execution_count": 39,
     "metadata": {},
     "output_type": "execute_result"
    }
   ],
   "source": [
    "tile_info = pd.read_csv(\"tile_info.csv\")\n",
    "tile_info.head()"
   ]
  },
  {
   "cell_type": "code",
   "execution_count": 40,
   "metadata": {
    "collapsed": false,
    "jupyter": {
     "outputs_hidden": false
    },
    "pycharm": {
     "name": "#%%\n"
    }
   },
   "outputs": [
    {
     "name": "stdout",
     "output_type": "stream",
     "text": [
      "(10538, 1904)\n"
     ]
    }
   ],
   "source": [
    "tile_csv_gene = pd.merge(tile_info[[\"Gene ID\", \"Sequence\"]],tile_csv,\n",
    "                             how=\"inner\", on=\"Sequence\")\n",
    "tile_csv_gene.head()\n",
    "print(tile_csv_gene.shape)"
   ]
  },
  {
   "cell_type": "code",
   "execution_count": 41,
   "metadata": {
    "collapsed": false,
    "jupyter": {
     "outputs_hidden": false
    },
    "pycharm": {
     "name": "#%%\n"
    }
   },
   "outputs": [],
   "source": [
    "unique_gene = tile_csv_gene[\"Gene ID\"].unique()"
   ]
  },
  {
   "cell_type": "code",
   "execution_count": 42,
   "metadata": {
    "collapsed": false,
    "jupyter": {
     "outputs_hidden": false
    },
    "pycharm": {
     "name": "#%%\n"
    }
   },
   "outputs": [
    {
     "data": {
      "text/plain": [
       "238"
      ]
     },
     "execution_count": 42,
     "metadata": {},
     "output_type": "execute_result"
    }
   ],
   "source": [
    "len(unique_gene)"
   ]
  },
  {
   "cell_type": "code",
   "execution_count": 43,
   "metadata": {
    "collapsed": false,
    "jupyter": {
     "outputs_hidden": false
    },
    "pycharm": {
     "name": "#%%\n"
    }
   },
   "outputs": [
    {
     "data": {
      "text/plain": [
       "DMD        296\n",
       "MGA        209\n",
       "SPEN       198\n",
       "ATRX       190\n",
       "NCOR1      159\n",
       "          ... \n",
       "MAX          5\n",
       "CDK2AP1      4\n",
       "C1D          4\n",
       "PHF5A        4\n",
       "SKP1         3\n",
       "Name: Gene ID, Length: 238, dtype: int64"
      ]
     },
     "execution_count": 43,
     "metadata": {},
     "output_type": "execute_result"
    }
   ],
   "source": [
    "tile_csv_gene[\"Gene ID\"].value_counts()"
   ]
  },
  {
   "cell_type": "code",
   "execution_count": 44,
   "metadata": {
    "collapsed": false,
    "jupyter": {
     "outputs_hidden": false
    },
    "pycharm": {
     "name": "#%%\n"
    }
   },
   "outputs": [],
   "source": [
    "tile_csv_gene = tile_csv_gene.fillna(\"unknown\")"
   ]
  },
  {
   "cell_type": "code",
   "execution_count": 69,
   "metadata": {
    "collapsed": false,
    "jupyter": {
     "outputs_hidden": false
    },
    "pycharm": {
     "name": "#%%\n"
    }
   },
   "outputs": [
    {
     "data": {
      "text/plain": [
       "(array([118.,  68.,  25.,  12.,  10.,   1.,   2.,   1.,   0.,   1.]),\n",
       " array([  3. ,  32.3,  61.6,  90.9, 120.2, 149.5, 178.8, 208.1, 237.4,\n",
       "        266.7, 296. ]),\n",
       " <BarContainer object of 10 artists>)"
      ]
     },
     "execution_count": 69,
     "metadata": {},
     "output_type": "execute_result"
    },
    {
     "data": {
      "image/png": "[encoded data removed]",
      "text/plain": [
       "<Figure size 432x288 with 1 Axes>"
      ]
     },
     "metadata": {
      "needs_background": "light"
     },
     "output_type": "display_data"
    }
   ],
   "source": [
    "import matplotlib.pyplot as plt\n",
    "plt.hist(tile_csv_gene[\"Gene ID\"].value_counts())"
   ]
  },
  {
   "cell_type": "code",
   "execution_count": 71,
   "metadata": {
    "collapsed": false,
    "jupyter": {
     "outputs_hidden": false
    },
    "pycharm": {
     "name": "#%%\n"
    }
   },
   "outputs": [],
   "source": [
    "gene_train_val_index, gene_test_index = train_test_split(list(range(len(unique_gene))), test_size=20, random_state=9001)"
   ]
  },
  {
   "cell_type": "code",
   "execution_count": 72,
   "metadata": {
    "collapsed": false,
    "jupyter": {
     "outputs_hidden": false
    },
    "pycharm": {
     "name": "#%%\n"
    }
   },
   "outputs": [],
   "source": [
    "gene_train_index, gene_val_index = train_test_split(gene_train_val_index, test_size=20, random_state=9001)"
   ]
  },
  {
   "cell_type": "code",
   "execution_count": 73,
   "metadata": {
    "collapsed": false,
    "jupyter": {
     "outputs_hidden": false
    },
    "pycharm": {
     "name": "#%%\n"
    }
   },
   "outputs": [
    {
     "name": "stdout",
     "output_type": "stream",
     "text": [
      "198\n",
      "20\n",
      "20\n"
     ]
    }
   ],
   "source": [
    "print(len(gene_train_index))\n",
    "print(len(gene_val_index))\n",
    "print(len(gene_test_index))"
   ]
  },
  {
   "cell_type": "code",
   "execution_count": 74,
   "metadata": {
    "collapsed": false,
    "jupyter": {
     "outputs_hidden": false
    },
    "pycharm": {
     "name": "#%%\n"
    }
   },
   "outputs": [],
   "source": [
    "train_gene = unique_gene[gene_train_index]\n",
    "val_gene = unique_gene[gene_val_index]\n",
    "test_gene = unique_gene[gene_test_index]"
   ]
  },
  {
   "cell_type": "code",
   "execution_count": 75,
   "metadata": {
    "collapsed": false,
    "jupyter": {
     "outputs_hidden": false
    },
    "pycharm": {
     "name": "#%%\n"
    }
   },
   "outputs": [],
   "source": [
    "bool_train = tile_csv_gene[\"Gene ID\"].isin(train_gene)\n",
    "bool_val = tile_csv_gene[\"Gene ID\"].isin(val_gene)\n",
    "bool_test = tile_csv_gene[\"Gene ID\"].isin(test_gene)"
   ]
  },
  {
   "cell_type": "code",
   "execution_count": 76,
   "metadata": {
    "collapsed": false,
    "jupyter": {
     "outputs_hidden": false
    },
    "pycharm": {
     "name": "#%%\n"
    }
   },
   "outputs": [],
   "source": [
    "train_index = [i for i, t in enumerate(bool_train) if t]\n",
    "val_index = [i for i, t in enumerate(bool_val) if t]\n",
    "test_index = [i for i, t in enumerate(bool_test) if t]"
   ]
  },
  {
   "cell_type": "code",
   "execution_count": 83,
   "metadata": {
    "collapsed": false,
    "jupyter": {
     "outputs_hidden": false
    },
    "pycharm": {
     "name": "#%%\n"
    }
   },
   "outputs": [],
   "source": [
    "y_df = tile_csv_gene.iloc[:,3]\n",
    "x_df = tile_csv_gene.iloc[:,4:]"
   ]
  },
  {
   "cell_type": "code",
   "execution_count": 84,
   "metadata": {
    "collapsed": false,
    "jupyter": {
     "outputs_hidden": false
    },
    "pycharm": {
     "name": "#%%\n"
    }
   },
   "outputs": [
    {
     "data": {
      "text/plain": [
       "0        0.3247\n",
       "1        0.4643\n",
       "2        0.5092\n",
       "3        0.1600\n",
       "4        0.4589\n",
       "          ...  \n",
       "10533   -0.0122\n",
       "10534   -0.2209\n",
       "10535   -0.0141\n",
       "10536    0.1606\n",
       "10537   -0.2181\n",
       "Name: Avg D5, Length: 10538, dtype: float64"
      ]
     },
     "execution_count": 84,
     "metadata": {},
     "output_type": "execute_result"
    }
   ],
   "source": [
    "x_df\n",
    "y_df"
   ]
  },
  {
   "cell_type": "code",
   "execution_count": 80,
   "metadata": {
    "collapsed": false,
    "jupyter": {
     "outputs_hidden": false
    },
    "pycharm": {
     "name": "#%%\n"
    }
   },
   "outputs": [
    {
     "name": "stdout",
     "output_type": "stream",
     "text": [
      "8613\n",
      "790\n",
      "1135\n"
     ]
    }
   ],
   "source": [
    "print(len(train_index))\n",
    "print(len(val_index))\n",
    "print(len(test_index))"
   ]
  },
  {
   "cell_type": "code",
   "execution_count": 85,
   "metadata": {
    "collapsed": false,
    "jupyter": {
     "outputs_hidden": false
    },
    "pycharm": {
     "name": "#%%\n"
    }
   },
   "outputs": [],
   "source": [
    "import json\n",
    "index_dict = {\"train_index\":train_index,\n",
    "              \"val_index\":val_index,\n",
    "              \"test_index\":test_index}\n",
    "with open(\"index_BareTiling.json\", \"w\") as f:\n",
    "    json.dump(index_dict, f)"
   ]
  }
 ],
 "metadata": {
  "kernelspec": {
   "display_name": "Python 3",
   "language": "python",
   "name": "python3"
  },
  "language_info": {
   "codemirror_mode": {
    "name": "ipython",
    "version": 3
   },
   "file_extension": ".py",
   "mimetype": "text/x-python",
   "name": "python",
   "nbconvert_exporter": "python",
   "pygments_lexer": "ipython3",
   "version": "3.8.3"
  }
 },
 "nbformat": 4,
 "nbformat_minor": 4
}
